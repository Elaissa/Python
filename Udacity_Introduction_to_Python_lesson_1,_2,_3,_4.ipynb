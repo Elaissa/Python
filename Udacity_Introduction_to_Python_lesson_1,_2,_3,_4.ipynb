{
  "nbformat": 4,
  "nbformat_minor": 0,
  "metadata": {
    "colab": {
      "name": "Udacity Introduction to Python lesson 1, 2, 3, 4",
      "version": "0.3.2",
      "provenance": [],
      "include_colab_link": true
    },
    "kernelspec": {
      "name": "python3",
      "display_name": "Python 3"
    }
  },
  "cells": [
    {
      "cell_type": "markdown",
      "metadata": {
        "id": "view-in-github",
        "colab_type": "text"
      },
      "source": [
        "<a href=\"https://colab.research.google.com/github/Elaissa/Python/blob/master/Udacity_Introduction_to_Python_lesson_1%2C_2%2C_3%2C_4.ipynb\" target=\"_parent\"><img src=\"https://colab.research.google.com/assets/colab-badge.svg\" alt=\"Open In Colab\"/></a>"
      ]
    },
    {
      "metadata": {
        "id": "jBTTY4GmHrzi",
        "colab_type": "code",
        "outputId": "c4b7ec85-11ba-411b-b7b1-0b0e8629cb31",
        "colab": {
          "base_uri": "https://localhost:8080/",
          "height": 34
        }
      },
      "cell_type": "code",
      "source": [
        "print((23 + 32) / 64)"
      ],
      "execution_count": 0,
      "outputs": [
        {
          "output_type": "stream",
          "text": [
            "0.859375\n"
          ],
          "name": "stdout"
        }
      ]
    },
    {
      "metadata": {
        "id": "QRasl7jBJ96K",
        "colab_type": "code",
        "outputId": "fe8fee57-197e-44b0-9eca-b2881d2ae3d0",
        "colab": {
          "base_uri": "https://localhost:8080/",
          "height": 34
        }
      },
      "cell_type": "code",
      "source": [
        "print(9*7 + 5*7)"
      ],
      "execution_count": 0,
      "outputs": [
        {
          "output_type": "stream",
          "text": [
            "98\n"
          ],
          "name": "stdout"
        }
      ]
    },
    {
      "metadata": {
        "id": "Jup7a3W5AX3S",
        "colab_type": "code",
        "colab": {}
      },
      "cell_type": "code",
      "source": [
        "mv_population = 74728"
      ],
      "execution_count": 0,
      "outputs": []
    },
    {
      "metadata": {
        "id": "4LL17LU1BGJz",
        "colab_type": "code",
        "colab": {}
      },
      "cell_type": "code",
      "source": [
        "x, y, z = 3, 4, 5"
      ],
      "execution_count": 0,
      "outputs": []
    },
    {
      "metadata": {
        "id": "YWbMnGSyBe8-",
        "colab_type": "code",
        "colab": {}
      },
      "cell_type": "code",
      "source": [
        "my_height = 58\n",
        "my_lat = 40\n",
        "my_long = 105"
      ],
      "execution_count": 0,
      "outputs": []
    },
    {
      "metadata": {
        "id": "ChuN7kBuKCnp",
        "colab_type": "code",
        "outputId": "2911fa18-cfe7-46f7-acaf-697f776e845c",
        "colab": {
          "base_uri": "https://localhost:8080/",
          "height": 34
        }
      },
      "cell_type": "code",
      "source": [
        "print(17*6 - (9*7 + 5*7))"
      ],
      "execution_count": 0,
      "outputs": [
        {
          "output_type": "stream",
          "text": [
            "4\n"
          ],
          "name": "stdout"
        }
      ]
    },
    {
      "metadata": {
        "id": "5fVMOmSpDDtD",
        "colab_type": "code",
        "outputId": "a9b69d56-0338-453d-f508-9ba9435e4898",
        "colab": {
          "base_uri": "https://localhost:8080/",
          "height": 34
        }
      },
      "cell_type": "code",
      "source": [
        "reservoir_volume = 4.445e8\n",
        "rainfall = 5e6\n",
        "# print(rainfall)\n",
        "# decrease the rainfall variable by 10% to account for runoff\n",
        "rainfall *= .9\n",
        "# print(rainfall)\n",
        "# add the rainfall variable to the reservoir_volume variable\n",
        "reservoir_volume += rainfall\n",
        "# print(reservoir_volume)\n",
        "# increase reservoir_volume by 5% to account for stormwater that flows\n",
        "# into the reservoir in the days following the storm\n",
        "reservoir_volume *= 1.05\n",
        "# print(reservoir_volume)\n",
        "# decrease reservoir_volume by 5% to account for evaporation\n",
        "reservoir_volume *= 0.95\n",
        "# print(reservoir_volume\n",
        "# subtract 2.5e5 cubic metres from reservoir_volume to account for water\n",
        "# that's piped to arid regions.\n",
        "reservoir_volume -= 2.5e5\n",
        "print(reservoir_volume)\n",
        "\n",
        "carrots = 24\n",
        "rabbits = 8\n",
        "crs_per_rab = carrots/rabbits\n",
        "rabbits = 12\n",
        "# print(crs_per_rab)"
      ],
      "execution_count": 0,
      "outputs": [
        {
          "output_type": "stream",
          "text": [
            "447627500.0\n"
          ],
          "name": "stdout"
        }
      ]
    },
    {
      "metadata": {
        "id": "8Fip8b3fERUO",
        "colab_type": "code",
        "colab": {}
      },
      "cell_type": "code",
      "source": [
        ">>> carrots = 24\n",
        ">>> rabbits = 8\n",
        ">>> crs_per_rab = carrots/rabbits\n",
        "\n",
        "\n",
        ">>> rabbits = 12"
      ],
      "execution_count": 0,
      "outputs": []
    },
    {
      "metadata": {
        "id": "TO_ic4WgFHsW",
        "colab_type": "code",
        "outputId": "ed38e2aa-a7bf-40b4-d5e0-845000918658",
        "colab": {
          "base_uri": "https://localhost:8080/",
          "height": 34
        }
      },
      "cell_type": "code",
      "source": [
        ">>> print (crs_per_rab)"
      ],
      "execution_count": 0,
      "outputs": [
        {
          "output_type": "stream",
          "text": [
            "3.0\n"
          ],
          "name": "stdout"
        }
      ]
    },
    {
      "metadata": {
        "id": "bVGnCks7F1na",
        "colab_type": "code",
        "outputId": "18b5b1ef-d26b-4aac-febe-425f7087afee",
        "colab": {
          "base_uri": "https://localhost:8080/",
          "height": 51
        }
      },
      "cell_type": "code",
      "source": [
        ">>> crs_per_rab = carrots/rabbits\n",
        ">>> print(crs_per_rab)    \n",
        "2.0"
      ],
      "execution_count": 0,
      "outputs": [
        {
          "output_type": "stream",
          "text": [
            "2.0\n"
          ],
          "name": "stdout"
        },
        {
          "output_type": "execute_result",
          "data": {
            "text/plain": [
              "2.0"
            ]
          },
          "metadata": {
            "tags": []
          },
          "execution_count": 10
        }
      ]
    },
    {
      "metadata": {
        "id": "8FeqWM6UKLMH",
        "colab_type": "code",
        "outputId": "453e146f-22ac-4e4c-b561-541e6020717f",
        "colab": {
          "base_uri": "https://localhost:8080/",
          "height": 34
        }
      },
      "cell_type": "code",
      "source": [
        "print((1 + 2 + 4)/13)"
      ],
      "execution_count": 0,
      "outputs": [
        {
          "output_type": "stream",
          "text": [
            "0.5384615384615384\n"
          ],
          "name": "stdout"
        }
      ]
    },
    {
      "metadata": {
        "id": "4WIZqa5-Karf",
        "colab_type": "code",
        "outputId": "f7d16b8c-f8a8-4a49-f4b4-c147fae5e023",
        "colab": {
          "base_uri": "https://localhost:8080/",
          "height": 34
        }
      },
      "cell_type": "code",
      "source": [
        "uz 1print((23 + 32 + 64) / 3)"
      ],
      "execution_count": 0,
      "outputs": [
        {
          "output_type": "stream",
          "text": [
            "39.666666666666664\n"
          ],
          "name": "stdout"
        }
      ]
    },
    {
      "metadata": {
        "id": "fXuMLOZsQ_0N",
        "colab_type": "code",
        "colab": {}
      },
      "cell_type": "code",
      "source": [
        ">>> print(type(x)\n",
        "     int\n",
        "          \n",
        "          "
      ],
      "execution_count": 0,
      "outputs": []
    },
    {
      "metadata": {
        "id": "Q8hwJxflRVux",
        "colab_type": "code",
        "outputId": "4bda989f-efb2-404f-e8f7-a9fb97919e5f",
        "colab": {
          "base_uri": "https://localhost:8080/",
          "height": 51
        }
      },
      "cell_type": "code",
      "source": [
        ">>> print(.1 + .1 + .1 == .3)\n",
        "False"
      ],
      "execution_count": 0,
      "outputs": [
        {
          "output_type": "stream",
          "text": [
            "False\n"
          ],
          "name": "stdout"
        },
        {
          "output_type": "execute_result",
          "data": {
            "text/plain": [
              "False"
            ]
          },
          "metadata": {
            "tags": []
          },
          "execution_count": 14
        }
      ]
    },
    {
      "metadata": {
        "id": "_6jmjggiRlfR",
        "colab_type": "code",
        "outputId": "c598918f-5763-4862-a603-59b62839712c",
        "colab": {
          "base_uri": "https://localhost:8080/",
          "height": 34
        }
      },
      "cell_type": "code",
      "source": [
        "print(4 + 5)"
      ],
      "execution_count": 0,
      "outputs": [
        {
          "output_type": "stream",
          "text": [
            "9\n"
          ],
          "name": "stdout"
        }
      ]
    },
    {
      "metadata": {
        "id": "NDGxG2yLRmdx",
        "colab_type": "code",
        "outputId": "6b8222ef-75a0-4f52-e4d1-5e7b19fb37dd",
        "colab": {
          "base_uri": "https://localhost:8080/",
          "height": 34
        }
      },
      "cell_type": "code",
      "source": [
        "sf_population, sf_area = 864816, 231.89\n",
        "rio_population, rio_area = 6453682, 486.5\n",
        "\n",
        "san_francisco_pop_density = sf_population/sf_area\n",
        "rio_de_janeiro_pop_density = rio_population/rio_area\n",
        "\n",
        "# Write code that prints True if San Francisco is denser than Rio, and False otherwise\n",
        "if (san_francisco_pop_density > rio_de_janeiro_pop_density):\n",
        "    print (True)\n",
        "else:\n",
        "    print (False)"
      ],
      "execution_count": 0,
      "outputs": [
        {
          "output_type": "stream",
          "text": [
            "False\n"
          ],
          "name": "stdout"
        }
      ]
    },
    {
      "metadata": {
        "id": "kudTdRQVVEx-",
        "colab_type": "code",
        "colab": {}
      },
      "cell_type": "code",
      "source": [
        ">>> my_string = 'this is a string!'\n",
        ">>> my_string2 = \"this is also a string!!!\""
      ],
      "execution_count": 0,
      "outputs": []
    },
    {
      "metadata": {
        "id": "GVnFqka6WMP0",
        "colab_type": "code",
        "outputId": "a7202301-b035-4a5f-ec7a-3715c86390c4",
        "colab": {
          "base_uri": "https://localhost:8080/",
          "height": 34
        }
      },
      "cell_type": "code",
      "source": [
        ">>> this_string = 'Simon\\'s skateboard is in the garage.'\n",
        ">>> print(this_string)\n"
      ],
      "execution_count": 0,
      "outputs": [
        {
          "output_type": "stream",
          "text": [
            "Simon's skateboard is in the garage.\n"
          ],
          "name": "stdout"
        }
      ]
    },
    {
      "metadata": {
        "id": "f8AQNi2bWU7C",
        "colab_type": "code",
        "outputId": "cdb0963b-5903-4d15-bc78-3f78131bb5d2",
        "colab": {
          "base_uri": "https://localhost:8080/",
          "height": 129
        }
      },
      "cell_type": "code",
      "source": [
        ">>> this_string = 'Simon's skateboard is in the garage.'\n",
        "  File \"<ipython-input-20-e80562c2a290>\", line 1\n",
        "    this_string = 'Simon's skateboard is in the garage."
      ],
      "execution_count": 0,
      "outputs": [
        {
          "output_type": "error",
          "ename": "SyntaxError",
          "evalue": "ignored",
          "traceback": [
            "\u001b[0;36m  File \u001b[0;32m\"<ipython-input-22-e8cf96aa8d6a>\"\u001b[0;36m, line \u001b[0;32m1\u001b[0m\n\u001b[0;31m    this_string = 'Simon's skateboard is in the garage.'\u001b[0m\n\u001b[0m                         ^\u001b[0m\n\u001b[0;31mSyntaxError\u001b[0m\u001b[0;31m:\u001b[0m invalid syntax\n"
          ]
        }
      ]
    },
    {
      "metadata": {
        "id": "_OGMq6z9Wqq_",
        "colab_type": "code",
        "outputId": "a2b91dd1-805e-490e-ec41-a2341efaf648",
        "colab": {
          "base_uri": "https://localhost:8080/",
          "height": 34
        }
      },
      "cell_type": "code",
      "source": [
        ">>> first_word = 'Hello'\n",
        ">>> second_word = 'There'\n",
        ">>> print(first_word + second_word)"
      ],
      "execution_count": 0,
      "outputs": [
        {
          "output_type": "stream",
          "text": [
            "HelloThere\n"
          ],
          "name": "stdout"
        }
      ]
    },
    {
      "metadata": {
        "id": "FIVE7UcsWwEo",
        "colab_type": "code",
        "outputId": "389c4ac6-cc75-4436-febb-f43d92c321b1",
        "colab": {
          "base_uri": "https://localhost:8080/",
          "height": 51
        }
      },
      "cell_type": "code",
      "source": [
        "print(len(\"ababa\") / len(\"ab\"))\n",
        "2.5"
      ],
      "execution_count": 0,
      "outputs": [
        {
          "output_type": "stream",
          "text": [
            "2.5\n"
          ],
          "name": "stdout"
        },
        {
          "output_type": "execute_result",
          "data": {
            "text/plain": [
              "2.5"
            ]
          },
          "metadata": {
            "tags": []
          },
          "execution_count": 31
        }
      ]
    },
    {
      "metadata": {
        "id": "MjykfKPiYqqv",
        "colab_type": "code",
        "outputId": "54f55a1e-90eb-46ef-9418-a3e681867d0d",
        "colab": {
          "base_uri": "https://localhost:8080/",
          "height": 34
        }
      },
      "cell_type": "code",
      "source": [
        "# TODO: Fix this string!\n",
        "ford_quote = 'Whether you think you can, or you think you can\\'t--you\\'re right.'\n",
        "coconut_count = \"34\"\n",
        "mango_count =  \"15\"\n",
        "tropical_fruit_count = coconut_count + mango_count\n",
        "print(tropical_fruit_count)"
      ],
      "execution_count": 0,
      "outputs": [
        {
          "output_type": "stream",
          "text": [
            "3415\n"
          ],
          "name": "stdout"
        }
      ]
    },
    {
      "metadata": {
        "id": "gc_JHayKZu_G",
        "colab_type": "code",
        "colab": {}
      },
      "cell_type": "code",
      "source": [
        "ford_quote = \"Whether you think you can, or you think you can't--you're right.\""
      ],
      "execution_count": 0,
      "outputs": []
    },
    {
      "metadata": {
        "id": "jBlnrT0MaLM1",
        "colab_type": "code",
        "outputId": "835a310d-3fea-49b4-f622-1de5ab47a011",
        "colab": {
          "base_uri": "https://localhost:8080/",
          "height": 34
        }
      },
      "cell_type": "code",
      "source": [
        "username = \"Kinari\"\n",
        "timestamp = \"04:50\"\n",
        "url = \"http://petshop.com/pets/mammals/cats\"\n",
        "\n",
        "# TODO: print a log message using the variables above.\n",
        "# The message should have the same format as this one:\n",
        "# \"Yogesh accessed the site http://petshop.com/pets/reptiles/pythons at 16:20.\"\n",
        "message = username + \" accessed the site \" + url + \" at \" + timestamp + \".\"\n",
        "print(message)"
      ],
      "execution_count": 0,
      "outputs": [
        {
          "output_type": "stream",
          "text": [
            "Kinari accessed the site http://petshop.com/pets/mammals/cats at 04:50.\n"
          ],
          "name": "stdout"
        }
      ]
    },
    {
      "metadata": {
        "id": "9cC4NxMMWxJs",
        "colab_type": "code",
        "colab": {}
      },
      "cell_type": "code",
      "source": [
        "given_name = \"William\"\n",
        "middle_names = \"Bradley\"\n",
        "family_name = \"Pitt\"\n",
        "# Now we check to make sure that the name fits within the driving license character limit\n",
        "# Nothing you need to do here\n",
        "name_length = len(given_name) + len(middle_names) + len(family_name) + 2"
      ],
      "execution_count": 0,
      "outputs": []
    },
    {
      "metadata": {
        "id": "imp0N4yat48W",
        "colab_type": "code",
        "colab": {}
      },
      "cell_type": "code",
      "source": [
        ""
      ],
      "execution_count": 0,
      "outputs": []
    },
    {
      "metadata": {
        "id": "1dJDcsPPzJC7",
        "colab_type": "code",
        "outputId": "a41014d3-2f58-408a-f399-84dee4fba421",
        "colab": {
          "base_uri": "https://localhost:8080/",
          "height": 102
        }
      },
      "cell_type": "code",
      "source": [
        ">>> print(type(4))\n",
        "int\n",
        ">>> print(type(3.7))\n",
        "float\n",
        ">>> print(type('this'))\n",
        "str\n",
        ">>> print(type(True))\n",
        "bool"
      ],
      "execution_count": 0,
      "outputs": [
        {
          "output_type": "stream",
          "text": [
            "<class 'int'>\n",
            "<class 'float'>\n",
            "<class 'str'>\n",
            "<class 'bool'>\n"
          ],
          "name": "stdout"
        },
        {
          "output_type": "execute_result",
          "data": {
            "text/plain": [
              "bool"
            ]
          },
          "metadata": {
            "tags": []
          },
          "execution_count": 37
        }
      ]
    },
    {
      "metadata": {
        "id": "nLrf2z-hzNu7",
        "colab_type": "code",
        "outputId": "7ebf9a97-1e50-4655-f673-6b06f9d75386",
        "colab": {
          "base_uri": "https://localhost:8080/",
          "height": 34
        }
      },
      "cell_type": "code",
      "source": [
        "\"0\" + \"5\""
      ],
      "execution_count": 0,
      "outputs": [
        {
          "output_type": "execute_result",
          "data": {
            "text/plain": [
              "'05'"
            ]
          },
          "metadata": {
            "tags": []
          },
          "execution_count": 38
        }
      ]
    },
    {
      "metadata": {
        "id": "9Rhi_6UQzQ0k",
        "colab_type": "code",
        "outputId": "10a31e3d-7063-4e9a-ca23-5827066dcc1f",
        "colab": {
          "base_uri": "https://localhost:8080/",
          "height": 34
        }
      },
      "cell_type": "code",
      "source": [
        "0 + 5"
      ],
      "execution_count": 0,
      "outputs": [
        {
          "output_type": "execute_result",
          "data": {
            "text/plain": [
              "5"
            ]
          },
          "metadata": {
            "tags": []
          },
          "execution_count": 39
        }
      ]
    },
    {
      "metadata": {
        "id": "BHaM3KEFzTnE",
        "colab_type": "code",
        "outputId": "f793d354-f2b8-4ae6-8f44-b9b959332c5d",
        "colab": {
          "base_uri": "https://localhost:8080/",
          "height": 163
        }
      },
      "cell_type": "code",
      "source": [
        "\"0\" + 5"
      ],
      "execution_count": 0,
      "outputs": [
        {
          "output_type": "error",
          "ename": "TypeError",
          "evalue": "ignored",
          "traceback": [
            "\u001b[0;31m---------------------------------------------------------------------------\u001b[0m",
            "\u001b[0;31mTypeError\u001b[0m                                 Traceback (most recent call last)",
            "\u001b[0;32m<ipython-input-40-f3eee68b9620>\u001b[0m in \u001b[0;36m<module>\u001b[0;34m()\u001b[0m\n\u001b[0;32m----> 1\u001b[0;31m \u001b[0;34m\"0\"\u001b[0m \u001b[0;34m+\u001b[0m \u001b[0;36m5\u001b[0m\u001b[0;34m\u001b[0m\u001b[0;34m\u001b[0m\u001b[0m\n\u001b[0m",
            "\u001b[0;31mTypeError\u001b[0m: must be str, not int"
          ]
        }
      ]
    },
    {
      "metadata": {
        "id": "WCdsDGClzXON",
        "colab_type": "code",
        "outputId": "ce5c9f63-01dd-46f8-dbc6-684f6d42d10d",
        "colab": {
          "base_uri": "https://localhost:8080/",
          "height": 163
        }
      },
      "cell_type": "code",
      "source": [
        "0 + \"5\""
      ],
      "execution_count": 0,
      "outputs": [
        {
          "output_type": "error",
          "ename": "TypeError",
          "evalue": "ignored",
          "traceback": [
            "\u001b[0;31m---------------------------------------------------------------------------\u001b[0m",
            "\u001b[0;31mTypeError\u001b[0m                                 Traceback (most recent call last)",
            "\u001b[0;32m<ipython-input-41-3dd32333af13>\u001b[0m in \u001b[0;36m<module>\u001b[0;34m()\u001b[0m\n\u001b[0;32m----> 1\u001b[0;31m \u001b[0;36m0\u001b[0m \u001b[0;34m+\u001b[0m \u001b[0;34m\"5\"\u001b[0m\u001b[0;34m\u001b[0m\u001b[0;34m\u001b[0m\u001b[0m\n\u001b[0m",
            "\u001b[0;31mTypeError\u001b[0m: unsupported operand type(s) for +: 'int' and 'str'"
          ]
        }
      ]
    },
    {
      "metadata": {
        "id": "6jZdL6d2zkEV",
        "colab_type": "code",
        "outputId": "00926286-fd02-43e7-eca2-ca6fde480b01",
        "colab": {
          "base_uri": "https://localhost:8080/",
          "height": 34
        }
      },
      "cell_type": "code",
      "source": [
        "\"12\""
      ],
      "execution_count": 0,
      "outputs": [
        {
          "output_type": "execute_result",
          "data": {
            "text/plain": [
              "'12'"
            ]
          },
          "metadata": {
            "tags": []
          },
          "execution_count": 42
        }
      ]
    },
    {
      "metadata": {
        "id": "2FhUBj-XzlwC",
        "colab_type": "code",
        "outputId": "fcaeecbb-5c65-4d27-86c2-e61ed049f059",
        "colab": {
          "base_uri": "https://localhost:8080/",
          "height": 34
        }
      },
      "cell_type": "code",
      "source": [
        "12.3"
      ],
      "execution_count": 0,
      "outputs": [
        {
          "output_type": "execute_result",
          "data": {
            "text/plain": [
              "12.3"
            ]
          },
          "metadata": {
            "tags": []
          },
          "execution_count": 43
        }
      ]
    },
    {
      "metadata": {
        "id": "KJ5A_3zNz7_a",
        "colab_type": "code",
        "outputId": "d7b6f3c4-1857-49e5-8692-4b3c8727e1b7",
        "colab": {
          "base_uri": "https://localhost:8080/",
          "height": 34
        }
      },
      "cell_type": "code",
      "source": [
        "len(\"my_string\")"
      ],
      "execution_count": 0,
      "outputs": [
        {
          "output_type": "execute_result",
          "data": {
            "text/plain": [
              "9"
            ]
          },
          "metadata": {
            "tags": []
          },
          "execution_count": 44
        }
      ]
    },
    {
      "metadata": {
        "id": "luboSvOqz87H",
        "colab_type": "code",
        "outputId": "5f27dda2-ae54-4102-e67d-20b37c79dc66",
        "colab": {
          "base_uri": "https://localhost:8080/",
          "height": 34
        }
      },
      "cell_type": "code",
      "source": [
        "\"hippo\"*12"
      ],
      "execution_count": 0,
      "outputs": [
        {
          "output_type": "execute_result",
          "data": {
            "text/plain": [
              "'hippohippohippohippohippohippohippohippohippohippohippohippo'"
            ]
          },
          "metadata": {
            "tags": []
          },
          "execution_count": 45
        }
      ]
    },
    {
      "metadata": {
        "id": "l5-0WKmx0Ke5",
        "colab_type": "code",
        "outputId": "034e69c2-f5b0-4cb6-9414-8a9e0b1ede79",
        "colab": {
          "base_uri": "https://localhost:8080/",
          "height": 34
        }
      },
      "cell_type": "code",
      "source": [
        "mon_sales = \"121\"\n",
        "tues_sales = \"105\"\n",
        "wed_sales = \"110\"\n",
        "thurs_sales = \"98\"\n",
        "fri_sales = \"95\"\n",
        "#TODO: Print a string with this format: This week's total sales: xxx\n",
        "# You will probably need to write some lines of code before the print statement\n",
        "weekly_sales = int(mon_sales) + int(tues_sales) + int(wed_sales) + int(thurs_sales) + int(fri_sales)\n",
        "weekly_sales = str(weekly_sales)  #convert the type back!!\n",
        "print(\"This week\\'s total sales: \" + weekly_sales)"
      ],
      "execution_count": 0,
      "outputs": [
        {
          "output_type": "stream",
          "text": [
            "This week's total sales: 529\n"
          ],
          "name": "stdout"
        }
      ]
    },
    {
      "metadata": {
        "id": "VKatk3US06Co",
        "colab_type": "code",
        "colab": {}
      },
      "cell_type": "code",
      "source": [
        ""
      ],
      "execution_count": 0,
      "outputs": []
    },
    {
      "metadata": {
        "id": "YyMG7lkR1Bpk",
        "colab_type": "code",
        "outputId": "3ba31b79-cf3e-4cc9-a27a-265ecd3731e3",
        "colab": {
          "base_uri": "https://localhost:8080/",
          "height": 34
        }
      },
      "cell_type": "code",
      "source": [
        " print(\"hippo\" *12)"
      ],
      "execution_count": 0,
      "outputs": [
        {
          "output_type": "stream",
          "text": [
            "hippohippohippohippohippohippohippohippohippohippohippohippo\n"
          ],
          "name": "stdout"
        }
      ]
    },
    {
      "metadata": {
        "id": "Cqo-BjoqPmvV",
        "colab_type": "code",
        "colab": {}
      },
      "cell_type": "code",
      "source": [
        "imie =\"Ania\"\n",
        "print(\"nazywam się: {}\").format(str(imie))"
      ],
      "execution_count": 0,
      "outputs": []
    },
    {
      "metadata": {
        "id": "1Dkv3G92Pnxu",
        "colab_type": "code",
        "outputId": "54f4aef8-82a3-4277-e07a-50c73d3b4a32",
        "colab": {
          "base_uri": "https://localhost:8080/",
          "height": 34
        }
      },
      "cell_type": "code",
      "source": [
        "print(\"Mohammed has {} balloons\".format(27))"
      ],
      "execution_count": 0,
      "outputs": [
        {
          "output_type": "stream",
          "text": [
            "Mohammed has 27 balloons\n"
          ],
          "name": "stdout"
        }
      ]
    },
    {
      "metadata": {
        "id": "fdcnTQtqP5l3",
        "colab_type": "code",
        "outputId": "366c0f77-1328-40fb-a610-b9b17f799d83",
        "colab": {
          "base_uri": "https://localhost:8080/",
          "height": 34
        }
      },
      "cell_type": "code",
      "source": [
        ">>> print('%(language)s has %(number)03d quote types.' %\n",
        "...       {'language': \"Python\", \"number\": 2})"
      ],
      "execution_count": 0,
      "outputs": [
        {
          "output_type": "stream",
          "text": [
            "Python has 002 quote types.\n"
          ],
          "name": "stdout"
        }
      ]
    },
    {
      "metadata": {
        "id": "9eztMfXDWmGQ",
        "colab_type": "code",
        "outputId": "274656a7-d194-4fa0-f74d-5a75ea21ca84",
        "colab": {
          "base_uri": "https://localhost:8080/",
          "height": 34
        }
      },
      "cell_type": "code",
      "source": [
        "new_str.split('.')"
      ],
      "execution_count": 0,
      "outputs": [
        {
          "output_type": "execute_result",
          "data": {
            "text/plain": [
              "['The cow jumped over the moon', '']"
            ]
          },
          "metadata": {
            "tags": []
          },
          "execution_count": 17
        }
      ]
    },
    {
      "metadata": {
        "id": "umN7P1knWr-f",
        "colab_type": "code",
        "outputId": "c1471921-d705-423a-b33a-20173204981f",
        "colab": {
          "base_uri": "https://localhost:8080/",
          "height": 34
        }
      },
      "cell_type": "code",
      "source": [
        "new_str.split(None, 3)"
      ],
      "execution_count": 0,
      "outputs": [
        {
          "output_type": "execute_result",
          "data": {
            "text/plain": [
              "['The', 'cow', 'jumped', 'over the moon.']"
            ]
          },
          "metadata": {
            "tags": []
          },
          "execution_count": 18
        }
      ]
    },
    {
      "metadata": {
        "id": "PfaxXPJ0WbkC",
        "colab_type": "code",
        "outputId": "e3acf08e-cf38-4b27-9c46-7828a59c8b4a",
        "colab": {
          "base_uri": "https://localhost:8080/",
          "height": 34
        }
      },
      "cell_type": "code",
      "source": [
        "new_str = \"The cow jumped over the moon.\"\n",
        "new_str.split()\n",
        "new_str.split(' ', 3)"
      ],
      "execution_count": 0,
      "outputs": [
        {
          "output_type": "execute_result",
          "data": {
            "text/plain": [
              "['The', 'cow', 'jumped', 'over the moon.']"
            ]
          },
          "metadata": {
            "tags": []
          },
          "execution_count": 16
        }
      ]
    },
    {
      "metadata": {
        "id": "P05EOvo9R-Bj",
        "colab_type": "code",
        "outputId": "fb404156-349d-47c3-d64d-752615ea9d62",
        "colab": {
          "base_uri": "https://localhost:8080/",
          "height": 34
        }
      },
      "cell_type": "code",
      "source": [
        "imie = 'Ania'\n",
        "zdanie = \"nazywam się \"+imie\n",
        "print(zdanie)"
      ],
      "execution_count": 0,
      "outputs": [
        {
          "output_type": "stream",
          "text": [
            "nazywam się Ania\n"
          ],
          "name": "stdout"
        }
      ]
    },
    {
      "metadata": {
        "id": "CxGX-oQ3VlPp",
        "colab_type": "code",
        "outputId": "14104f40-8d56-42b5-87f1-83dd24eb8a91",
        "colab": {
          "base_uri": "https://localhost:8080/",
          "height": 34
        }
      },
      "cell_type": "code",
      "source": [
        "new_str = \"The cow jumped over the moon.\"\n",
        "new_str.split()"
      ],
      "execution_count": 0,
      "outputs": [
        {
          "output_type": "execute_result",
          "data": {
            "text/plain": [
              "['The', 'cow', 'jumped', 'over', 'the', 'moon.']"
            ]
          },
          "metadata": {
            "tags": []
          },
          "execution_count": 15
        }
      ]
    },
    {
      "metadata": {
        "id": "54OXyYTNSkNf",
        "colab_type": "code",
        "outputId": "8df2145b-38b5-4529-aa61-8a02b0a6703e",
        "colab": {
          "base_uri": "https://localhost:8080/",
          "height": 153
        }
      },
      "cell_type": "code",
      "source": [
        "verse = \"If you can keep your head when all about you\\n  Are losing theirs and blaming it on you,\\nIf you can trust yourself when all men doubt you,\\n  But make allowance for their doubting too;\\nIf you can wait and not be tired by waiting,\\n  Or being lied about, don’t deal in lies,\\nOr being hated, don’t give way to hating,\\n  And yet don’t look too good, nor talk too wise:\"\n",
        "print(verse)"
      ],
      "execution_count": 0,
      "outputs": [
        {
          "output_type": "stream",
          "text": [
            "If you can keep your head when all about you\n",
            "  Are losing theirs and blaming it on you,\n",
            "If you can trust yourself when all men doubt you,\n",
            "  But make allowance for their doubting too;\n",
            "If you can wait and not be tired by waiting,\n",
            "  Or being lied about, don’t deal in lies,\n",
            "Or being hated, don’t give way to hating,\n",
            "  And yet don’t look too good, nor talk too wise:\n"
          ],
          "name": "stdout"
        }
      ]
    },
    {
      "metadata": {
        "id": "-_vdKSVEX3U4",
        "colab_type": "code",
        "outputId": "714685b4-b4b8-4899-87d8-6a6a5d2563ad",
        "colab": {
          "base_uri": "https://localhost:8080/",
          "height": 34
        }
      },
      "cell_type": "code",
      "source": [
        "len(verse)\n"
      ],
      "execution_count": 0,
      "outputs": [
        {
          "output_type": "execute_result",
          "data": {
            "text/plain": [
              "362"
            ]
          },
          "metadata": {
            "tags": []
          },
          "execution_count": 22
        }
      ]
    },
    {
      "metadata": {
        "id": "XTljShxSY3zQ",
        "colab_type": "code",
        "outputId": "a1523310-df20-4191-96a5-677bc9ca30d0",
        "colab": {
          "base_uri": "https://localhost:8080/",
          "height": 238
        }
      },
      "cell_type": "code",
      "source": [
        "verse = \"If you can keep your head when all about you\\n  Are losing theirs and blaming it on you,\\nIf you can trust yourself when all men doubt you,\\n  But make allowance for their doubting too;\\nIf you can wait and not be tired by waiting,\\n  Or being lied about, don’t deal in lies,\\nOr being hated, don’t give way to hating,\\n  And yet don’t look too good, nor talk too wise:\"\n",
        "print(verse, \"\\n\")\n",
        "\n",
        "print(\"Verse has a length of {} characters.\".format(len(verse)))\n",
        "print(\"The first occurence of the word 'and' occurs at the {}th index.\".format(verse.find('and')))\n",
        "print(\"The last occurence of the word 'you' occurs at the {}th index.\".format(verse.rfind('you')))\n",
        "print(\"The word 'you' occurs {} times in the verse.\".format(verse.count('you')))"
      ],
      "execution_count": 0,
      "outputs": [
        {
          "output_type": "stream",
          "text": [
            "If you can keep your head when all about you\n",
            "  Are losing theirs and blaming it on you,\n",
            "If you can trust yourself when all men doubt you,\n",
            "  But make allowance for their doubting too;\n",
            "If you can wait and not be tired by waiting,\n",
            "  Or being lied about, don’t deal in lies,\n",
            "Or being hated, don’t give way to hating,\n",
            "  And yet don’t look too good, nor talk too wise: \n",
            "\n",
            "Verse has a length of 362 characters.\n",
            "The first occurence of the word 'and' occurs at the 65th index.\n",
            "The last occurence of the word 'you' occurs at the 186th index.\n",
            "The word 'you' occurs 8 times in the verse.\n"
          ],
          "name": "stdout"
        }
      ]
    },
    {
      "metadata": {
        "id": "ddREAPpAeAvO",
        "colab_type": "code",
        "outputId": "2bf4fd65-3f9d-4d5c-af1c-422e7965b9f2",
        "colab": {
          "base_uri": "https://localhost:8080/",
          "height": 238
        }
      },
      "cell_type": "code",
      "source": [
        "verse = \"If you can keep your head when all about you\\n  Are losing theirs and blaming it on you,\\nIf you can trust yourself when all men doubt you,\\n  But make allowance for their doubting too;\\nIf you can wait and not be tired by waiting,\\n  Or being lied about, don’t deal in lies,\\nOr being hated, don’t give way to hating,\\n  And yet don’t look too good, nor talk too wise:\"\n",
        "print(verse, \"\\n\")\n",
        "\n",
        "message = \"Verse has a length of {} characters.\\nThe first occurence of the \\\n",
        "word 'and' occurs at the {}th index.\\nThe last occurence of the word 'you' \\\n",
        "occurs at the {}th index.\\nThe word 'you' occurs {} times in the verse.\"\n",
        "\n",
        "length = len(verse)\n",
        "first_idx = verse.find('and')\n",
        "last_idx = verse.rfind('you')\n",
        "count = verse.count('you')\n",
        "\n",
        "print(message.format(length, first_idx, last_idx, count))"
      ],
      "execution_count": 0,
      "outputs": [
        {
          "output_type": "stream",
          "text": [
            "If you can keep your head when all about you\n",
            "  Are losing theirs and blaming it on you,\n",
            "If you can trust yourself when all men doubt you,\n",
            "  But make allowance for their doubting too;\n",
            "If you can wait and not be tired by waiting,\n",
            "  Or being lied about, don’t deal in lies,\n",
            "Or being hated, don’t give way to hating,\n",
            "  And yet don’t look too good, nor talk too wise: \n",
            "\n",
            "Verse has a length of 362 characters.\n",
            "The first occurence of the word 'and' occurs at the 65th index.\n",
            "The last occurence of the word 'you' occurs at the 186th index.\n",
            "The word 'you' occurs 8 times in the verse.\n"
          ],
          "name": "stdout"
        }
      ]
    },
    {
      "metadata": {
        "id": "hnsBIhwlkA9p",
        "colab_type": "code",
        "colab": {}
      },
      "cell_type": "code",
      "source": [
        "list_of_random_things = [1, 3.4, 'a string', True]"
      ],
      "execution_count": 0,
      "outputs": []
    },
    {
      "metadata": {
        "id": "FYjL6u-xeB9F",
        "colab_type": "code",
        "outputId": "39a47b69-9f06-4ddf-955a-180fd328837a",
        "colab": {
          "base_uri": "https://localhost:8080/",
          "height": 34
        }
      },
      "cell_type": "code",
      "source": [
        ">>> list_of_random_things[0]"
      ],
      "execution_count": 0,
      "outputs": [
        {
          "output_type": "execute_result",
          "data": {
            "text/plain": [
              "1"
            ]
          },
          "metadata": {
            "tags": []
          },
          "execution_count": 33
        }
      ]
    },
    {
      "metadata": {
        "id": "cbEvDSOlkLa3",
        "colab_type": "code",
        "outputId": "2fd558e0-2b6e-481d-fa2f-a6aff2797c35",
        "colab": {
          "base_uri": "https://localhost:8080/",
          "height": 34
        }
      },
      "cell_type": "code",
      "source": [
        ">>> list_of_random_things[len(list_of_random_things) - 1] \n",
        "True"
      ],
      "execution_count": 0,
      "outputs": [
        {
          "output_type": "execute_result",
          "data": {
            "text/plain": [
              "True"
            ]
          },
          "metadata": {
            "tags": []
          },
          "execution_count": 35
        }
      ]
    },
    {
      "metadata": {
        "id": "kyOxSe1dkRll",
        "colab_type": "code",
        "outputId": "e82ae421-3a92-4b6d-e91b-76a1056cb821",
        "colab": {
          "base_uri": "https://localhost:8080/",
          "height": 34
        }
      },
      "cell_type": "code",
      "source": [
        ">>> list_of_random_things[len(list_of_random_things) - 1] \n",
        "True"
      ],
      "execution_count": 0,
      "outputs": [
        {
          "output_type": "execute_result",
          "data": {
            "text/plain": [
              "True"
            ]
          },
          "metadata": {
            "tags": []
          },
          "execution_count": 36
        }
      ]
    },
    {
      "metadata": {
        "id": "XTe5UJCRkV72",
        "colab_type": "code",
        "outputId": "86f85e22-7b77-4e2c-e470-603aa2865b9f",
        "colab": {
          "base_uri": "https://localhost:8080/",
          "height": 34
        }
      },
      "cell_type": "code",
      "source": [
        ">>> list_of_random_things = [1, 3.4, 'a string', True]\n",
        ">>> list_of_random_things[1:2]"
      ],
      "execution_count": 0,
      "outputs": [
        {
          "output_type": "execute_result",
          "data": {
            "text/plain": [
              "[3.4]"
            ]
          },
          "metadata": {
            "tags": []
          },
          "execution_count": 37
        }
      ]
    },
    {
      "metadata": {
        "id": "PoIHKc3ekseh",
        "colab_type": "code",
        "outputId": "b03df762-eb13-48a5-edad-328967300901",
        "colab": {
          "base_uri": "https://localhost:8080/",
          "height": 34
        }
      },
      "cell_type": "code",
      "source": [
        ">>> list_of_random_things[:2]\n",
        "[1, 3.4]"
      ],
      "execution_count": 0,
      "outputs": [
        {
          "output_type": "execute_result",
          "data": {
            "text/plain": [
              "[1, 3.4]"
            ]
          },
          "metadata": {
            "tags": []
          },
          "execution_count": 40
        }
      ]
    },
    {
      "metadata": {
        "id": "cQCPA4Aok3Jr",
        "colab_type": "code",
        "outputId": "e48856a7-726b-4715-b8aa-67433cfaf847",
        "colab": {
          "base_uri": "https://localhost:8080/",
          "height": 34
        }
      },
      "cell_type": "code",
      "source": [
        ">>> list_of_random_things[1:]\n",
        "[3.4, 'a string', True]"
      ],
      "execution_count": 0,
      "outputs": [
        {
          "output_type": "execute_result",
          "data": {
            "text/plain": [
              "[3.4, 'a string', True]"
            ]
          },
          "metadata": {
            "tags": []
          },
          "execution_count": 41
        }
      ]
    },
    {
      "metadata": {
        "id": "31Om5rSSk6U7",
        "colab_type": "code",
        "outputId": "cdeef449-11c9-400b-cfc4-be1998cd776e",
        "colab": {
          "base_uri": "https://localhost:8080/",
          "height": 34
        }
      },
      "cell_type": "code",
      "source": [
        ">>> 'this' in 'this is a string'\n",
        "True\n",
        ">>> 'in' in 'this is a string'\n",
        "True\n",
        ">>> 'isa' in 'this is a string'\n",
        "False\n",
        ">>> 5 not in [1, 2, 3, 4, 6]\n",
        "True\n",
        ">>> 5 in [1, 2, 3, 4, 6]\n",
        "False"
      ],
      "execution_count": 0,
      "outputs": [
        {
          "output_type": "execute_result",
          "data": {
            "text/plain": [
              "False"
            ]
          },
          "metadata": {
            "tags": []
          },
          "execution_count": 42
        }
      ]
    },
    {
      "metadata": {
        "id": "AinRR_Sok_vT",
        "colab_type": "code",
        "outputId": "6d703343-2faa-4f7d-b9c4-11e97055bfda",
        "colab": {
          "base_uri": "https://localhost:8080/",
          "height": 34
        }
      },
      "cell_type": "code",
      "source": [
        ">>> my_lst = [1, 2, 3, 4, 5]\n",
        ">>> my_lst[0] = 'one'\n",
        ">>> print(my_lst)"
      ],
      "execution_count": 0,
      "outputs": [
        {
          "output_type": "stream",
          "text": [
            "['one', 2, 3, 4, 5]\n"
          ],
          "name": "stdout"
        }
      ]
    },
    {
      "metadata": {
        "id": "3OO9hv7flanA",
        "colab_type": "code",
        "colab": {}
      },
      "cell_type": "code",
      "source": [
        "month = 8\n",
        "days_in_month = [31,28,31,30,31,30,31,31,30,31,30,31]\n",
        "\n",
        "# use list indexing to determine the number of days in month\n",
        "num_days = days_in_month[month-1]\n"
      ],
      "execution_count": 0,
      "outputs": []
    },
    {
      "metadata": {
        "id": "EdIpQ5JDlqI6",
        "colab_type": "code",
        "outputId": "dd36b1ab-7e31-41dc-ba45-0577bdad1bd0",
        "colab": {
          "base_uri": "https://localhost:8080/",
          "height": 34
        }
      },
      "cell_type": "code",
      "source": [
        "eclipse_dates = ['June 21, 2001', 'December 4, 2002', 'November 23, 2003',\n",
        "                 'March 29, 2006', 'August 1, 2008', 'July 22, 2009',\n",
        "                 'July 11, 2010', 'November 13, 2012', 'March 20, 2015',\n",
        "                 'March 9, 2016']\n",
        "                 \n",
        "                 \n",
        "\n",
        "print(eclipse_dates[-3:])\n"
      ],
      "execution_count": 0,
      "outputs": [
        {
          "output_type": "stream",
          "text": [
            "['November 13, 2012', 'March 20, 2015', 'March 9, 2016']\n"
          ],
          "name": "stdout"
        }
      ]
    },
    {
      "metadata": {
        "id": "ApWHI33t8Ih9",
        "colab_type": "code",
        "colab": {}
      },
      "cell_type": "code",
      "source": [
        "list_of_random_things = [1, 3.4, 'a string', True]"
      ],
      "execution_count": 0,
      "outputs": []
    },
    {
      "metadata": {
        "id": "nkek1rXg8aSd",
        "colab_type": "code",
        "outputId": "25e94e3c-9162-49a1-966b-c2eb0ad7cd33",
        "colab": {
          "base_uri": "https://localhost:8080/",
          "height": 34
        }
      },
      "cell_type": "code",
      "source": [
        ">>> list_of_random_things[0]"
      ],
      "execution_count": 0,
      "outputs": [
        {
          "output_type": "execute_result",
          "data": {
            "text/plain": [
              "1"
            ]
          },
          "metadata": {
            "tags": []
          },
          "execution_count": 3
        }
      ]
    },
    {
      "metadata": {
        "id": "pWMRIl3S8pOK",
        "colab_type": "code",
        "outputId": "2e12d7db-a8b3-4f33-b1a8-dde3ef86955e",
        "colab": {
          "base_uri": "https://localhost:8080/",
          "height": 34
        }
      },
      "cell_type": "code",
      "source": [
        ">>> list_of_random_things[len(list_of_random_things)- 1]"
      ],
      "execution_count": 0,
      "outputs": [
        {
          "output_type": "execute_result",
          "data": {
            "text/plain": [
              "True"
            ]
          },
          "metadata": {
            "tags": []
          },
          "execution_count": 4
        }
      ]
    },
    {
      "metadata": {
        "id": "Ck9wIL6Z9CcI",
        "colab_type": "code",
        "outputId": "1e554d8e-8ba7-4c43-d648-a731dd7d78c3",
        "colab": {
          "base_uri": "https://localhost:8080/",
          "height": 34
        }
      },
      "cell_type": "code",
      "source": [
        ">>> list_of_random_things[-1]"
      ],
      "execution_count": 0,
      "outputs": [
        {
          "output_type": "execute_result",
          "data": {
            "text/plain": [
              "True"
            ]
          },
          "metadata": {
            "tags": []
          },
          "execution_count": 5
        }
      ]
    },
    {
      "metadata": {
        "id": "qlkJ1jA79OdD",
        "colab_type": "code",
        "outputId": "906a9e21-3f4b-4e48-d738-be5d4853cf85",
        "colab": {
          "base_uri": "https://localhost:8080/",
          "height": 34
        }
      },
      "cell_type": "code",
      "source": [
        ">>> list_of_random_things[-2]"
      ],
      "execution_count": 0,
      "outputs": [
        {
          "output_type": "execute_result",
          "data": {
            "text/plain": [
              "'a string'"
            ]
          },
          "metadata": {
            "tags": []
          },
          "execution_count": 6
        }
      ]
    },
    {
      "metadata": {
        "id": "Huuu13pV91BV",
        "colab_type": "code",
        "outputId": "67e331e9-4ac9-45db-9828-f63d9d2609e4",
        "colab": {
          "base_uri": "https://localhost:8080/",
          "height": 34
        }
      },
      "cell_type": "code",
      "source": [
        ">>> list_of_random_things = [1, 3.4, 'a string', True]\n",
        ">>> list_of_random_things[1:2]"
      ],
      "execution_count": 0,
      "outputs": [
        {
          "output_type": "execute_result",
          "data": {
            "text/plain": [
              "[3.4]"
            ]
          },
          "metadata": {
            "tags": []
          },
          "execution_count": 7
        }
      ]
    },
    {
      "metadata": {
        "id": "dbSjXZMQ92h-",
        "colab_type": "code",
        "outputId": "a4830da0-66d3-45f8-b9e9-2cbd5e90bcd7",
        "colab": {
          "base_uri": "https://localhost:8080/",
          "height": 34
        }
      },
      "cell_type": "code",
      "source": [
        ">>> list_of_random_things[1:]"
      ],
      "execution_count": 0,
      "outputs": [
        {
          "output_type": "execute_result",
          "data": {
            "text/plain": [
              "[3.4, 'a string', True]"
            ]
          },
          "metadata": {
            "tags": []
          },
          "execution_count": 8
        }
      ]
    },
    {
      "metadata": {
        "id": "R6zveTsh-HZr",
        "colab_type": "code",
        "outputId": "11b94bff-cf7b-44af-f098-921d149f69af",
        "colab": {
          "base_uri": "https://localhost:8080/",
          "height": 34
        }
      },
      "cell_type": "code",
      "source": [
        ">>> 'this' in 'this is a string'\n",
        "True\n",
        ">>> 'in' in 'this is a string'\n",
        "True\n",
        ">>> 'isa' in 'this is a string'\n",
        "False\n",
        ">>> 5 not in [1, 2, 3, 4, 6]\n",
        "True\n",
        ">>> 5 in [1, 2, 3, 4, 6]\n",
        "False"
      ],
      "execution_count": 0,
      "outputs": [
        {
          "output_type": "execute_result",
          "data": {
            "text/plain": [
              "False"
            ]
          },
          "metadata": {
            "tags": []
          },
          "execution_count": 9
        }
      ]
    },
    {
      "metadata": {
        "id": "QE5c5CCk-P4N",
        "colab_type": "code",
        "outputId": "6492c7e1-15fd-4c43-be92-0d35a0ab9966",
        "colab": {
          "base_uri": "https://localhost:8080/",
          "height": 34
        }
      },
      "cell_type": "code",
      "source": [
        ">>> my_lst = [1, 2, 3, 4, 5]\n",
        ">>> my_lst[0] = 'one'\n",
        ">>> print(my_lst)"
      ],
      "execution_count": 0,
      "outputs": [
        {
          "output_type": "stream",
          "text": [
            "['one', 2, 3, 4, 5]\n"
          ],
          "name": "stdout"
        }
      ]
    },
    {
      "metadata": {
        "id": "s_VI8Q1yD4IS",
        "colab_type": "code",
        "colab": {}
      },
      "cell_type": "code",
      "source": [
        "month = 8\n",
        "days_in_month = [31,28,31,30,31,30,31,31,30,31,30,31]\n",
        "\n",
        "# use list indexing to determine the number of days in month\n",
        "num_days = days_in_month[month-1]\n"
      ],
      "execution_count": 0,
      "outputs": []
    },
    {
      "metadata": {
        "id": "8s-FzXP9EIE6",
        "colab_type": "code",
        "outputId": "0e196797-3d9b-4b6d-ae9e-803f25d34bcd",
        "colab": {
          "base_uri": "https://localhost:8080/",
          "height": 34
        }
      },
      "cell_type": "code",
      "source": [
        "eclipse_dates = ['June 21, 2001', 'December 4, 2002', 'November 23, 2003',\n",
        "                 'March 29, 2006', 'August 1, 2008', 'July 22, 2009',\n",
        "                 'July 11, 2010', 'November 13, 2012', 'March 20, 2015',\n",
        "                 'March 9, 2016']\n",
        "print(eclipse_dates[-3:])"
      ],
      "execution_count": 0,
      "outputs": [
        {
          "output_type": "stream",
          "text": [
            "['November 13, 2012', 'March 20, 2015', 'March 9, 2016']\n"
          ],
          "name": "stdout"
        }
      ]
    },
    {
      "metadata": {
        "id": "euGNJRIdEr2_",
        "colab_type": "code",
        "colab": {}
      },
      "cell_type": "code",
      "source": [
        "sentence1 = \"I wish to register a complaint.\"\n",
        "sentence2 = [\"I\", \"wish\", \"to\", \"register\", \"a\", \"complaint\", \".\"]\n",
        "sentence2[6]=\"!\""
      ],
      "execution_count": 0,
      "outputs": []
    },
    {
      "metadata": {
        "id": "YKvJSWo2E69q",
        "colab_type": "code",
        "colab": {}
      },
      "cell_type": "code",
      "source": [
        "sentence2[0]= \"Our Majesty\""
      ],
      "execution_count": 0,
      "outputs": []
    },
    {
      "metadata": {
        "id": "KEl8QYcqFBET",
        "colab_type": "code",
        "outputId": "0b36f2ff-2ca4-4451-f1aa-cb663f931888",
        "colab": {
          "base_uri": "https://localhost:8080/",
          "height": 163
        }
      },
      "cell_type": "code",
      "source": [
        "sentence1[30]=\"!\""
      ],
      "execution_count": 0,
      "outputs": [
        {
          "output_type": "error",
          "ename": "TypeError",
          "evalue": "ignored",
          "traceback": [
            "\u001b[0;31m---------------------------------------------------------------------------\u001b[0m",
            "\u001b[0;31mTypeError\u001b[0m                                 Traceback (most recent call last)",
            "\u001b[0;32m<ipython-input-18-236184e2e1e0>\u001b[0m in \u001b[0;36m<module>\u001b[0;34m()\u001b[0m\n\u001b[0;32m----> 1\u001b[0;31m \u001b[0msentence1\u001b[0m\u001b[0;34m[\u001b[0m\u001b[0;36m30\u001b[0m\u001b[0;34m]\u001b[0m\u001b[0;34m=\u001b[0m\u001b[0;34m\"!\"\u001b[0m\u001b[0;34m\u001b[0m\u001b[0;34m\u001b[0m\u001b[0m\n\u001b[0m",
            "\u001b[0;31mTypeError\u001b[0m: 'str' object does not support item assignment"
          ]
        }
      ]
    },
    {
      "metadata": {
        "id": "k38p2q66FEmU",
        "colab_type": "code",
        "colab": {}
      },
      "cell_type": "code",
      "source": [
        "sentence2[0:2] = [\"We\", \"want\"]"
      ],
      "execution_count": 0,
      "outputs": []
    },
    {
      "metadata": {
        "id": "pHc4lQsgFIFc",
        "colab_type": "code",
        "outputId": "aea09e97-9035-412b-faef-a05e3cd5c650",
        "colab": {
          "base_uri": "https://localhost:8080/",
          "height": 85
        }
      },
      "cell_type": "code",
      "source": [
        "new_str = \"\\n\".join([\"fore\", \"aft\", \"starboard\", \"port\"])\n",
        "print(new_str)"
      ],
      "execution_count": 0,
      "outputs": [
        {
          "output_type": "stream",
          "text": [
            "fore\n",
            "aft\n",
            "starboard\n",
            "port\n"
          ],
          "name": "stdout"
        }
      ]
    },
    {
      "metadata": {
        "id": "dDPnXmDeJFq9",
        "colab_type": "code",
        "outputId": "aa624fd3-be15-4406-b070-ba3af2ee83cb",
        "colab": {
          "base_uri": "https://localhost:8080/",
          "height": 34
        }
      },
      "cell_type": "code",
      "source": [
        "name = \"-\".join([\"García\", \"O'Kelly\"])\n",
        "print(name)"
      ],
      "execution_count": 0,
      "outputs": [
        {
          "output_type": "stream",
          "text": [
            "García-O'Kelly\n"
          ],
          "name": "stdout"
        }
      ]
    },
    {
      "metadata": {
        "id": "dZ1P3pAYJNLZ",
        "colab_type": "code",
        "outputId": "81926c08-cdde-4930-fd21-b870f30e9f9a",
        "colab": {
          "base_uri": "https://localhost:8080/",
          "height": 34
        }
      },
      "cell_type": "code",
      "source": [
        "letters = ['a', 'b', 'c', 'd']\n",
        "letters.append('z')\n",
        "print(letters)"
      ],
      "execution_count": 0,
      "outputs": [
        {
          "output_type": "stream",
          "text": [
            "['a', 'b', 'c', 'd', 'z']\n"
          ],
          "name": "stdout"
        }
      ]
    },
    {
      "metadata": {
        "id": "th41vZnVJOJB",
        "colab_type": "code",
        "outputId": "000f433a-c20e-44f6-fdb0-f173f56083bd",
        "colab": {
          "base_uri": "https://localhost:8080/",
          "height": 51
        }
      },
      "cell_type": "code",
      "source": [
        "a = [1, 5, 8]\n",
        "b = [2, 6, 9, 10]\n",
        "c = [100, 200]\n",
        "\n",
        "print(max([len(a), len(b), len(c)]))\n",
        "print(min([len(a), len(b), len(c)]))"
      ],
      "execution_count": 0,
      "outputs": [
        {
          "output_type": "stream",
          "text": [
            "4\n",
            "2\n"
          ],
          "name": "stdout"
        }
      ]
    },
    {
      "metadata": {
        "id": "8204Cm0nNsa8",
        "colab_type": "code",
        "outputId": "3d74239b-366d-4997-ec74-313eca7bb10b",
        "colab": {
          "base_uri": "https://localhost:8080/",
          "height": 34
        }
      },
      "cell_type": "code",
      "source": [
        "names = [\"Carol\", \"Albert\", \"Ben\", \"Donna\"]\n",
        "print(\" & \".join(sorted(names)))"
      ],
      "execution_count": 0,
      "outputs": [
        {
          "output_type": "stream",
          "text": [
            "Albert & Ben & Carol & Donna\n"
          ],
          "name": "stdout"
        }
      ]
    },
    {
      "metadata": {
        "id": "3AZ0jWf0Ntn8",
        "colab_type": "code",
        "outputId": "3beb3dc1-2163-465f-e4c8-8e196dae5bac",
        "colab": {
          "base_uri": "https://localhost:8080/",
          "height": 34
        }
      },
      "cell_type": "code",
      "source": [
        "names = [\"Carol\", \"Albert\", \"Ben\", \"Donna\"]\n",
        "names.append(\"Eugenia\")\n",
        "print(sorted(names))"
      ],
      "execution_count": 0,
      "outputs": [
        {
          "output_type": "stream",
          "text": [
            "['Albert', 'Ben', 'Carol', 'Donna', 'Eugenia']\n"
          ],
          "name": "stdout"
        }
      ]
    },
    {
      "metadata": {
        "id": "vTUeYAkxN56U",
        "colab_type": "code",
        "outputId": "acf103e5-9a04-41fb-9c86-f3a84d969796",
        "colab": {
          "base_uri": "https://localhost:8080/",
          "height": 85
        }
      },
      "cell_type": "code",
      "source": [
        "a = [1, 5, 8]\n",
        "b = [2, 6, 9, 10]\n",
        "c = [100, 200]\n",
        "\n",
        "print(max([len(a), len(b), len(c)]))\n",
        "print(min([len(a), len(b), len(c)]))\n",
        "names = [\"Carol\", \"Albert\", \"Ben\", \"Donna\"]\n",
        "print(\" & \".join(sorted(names)))\n",
        "names = [\"Carol\", \"Albert\", \"Ben\", \"Donna\"]\n",
        "names.append(\"Eugenia\")\n",
        "print(sorted(names))"
      ],
      "execution_count": 0,
      "outputs": [
        {
          "output_type": "stream",
          "text": [
            "4\n",
            "2\n",
            "Albert & Ben & Carol & Donna\n",
            "['Albert', 'Ben', 'Carol', 'Donna', 'Eugenia']\n"
          ],
          "name": "stdout"
        }
      ]
    },
    {
      "metadata": {
        "id": "JJqO5kXNQllZ",
        "colab_type": "code",
        "outputId": "c2c93432-5373-472e-dec1-3fe1d044bd50",
        "colab": {
          "base_uri": "https://localhost:8080/",
          "height": 34
        }
      },
      "cell_type": "code",
      "source": [
        "arr = ['a', 'b', 'c', 'd', 'e', 'f', 'g']\n",
        "print(arr[0])"
      ],
      "execution_count": 0,
      "outputs": [
        {
          "output_type": "stream",
          "text": [
            "a\n"
          ],
          "name": "stdout"
        }
      ]
    },
    {
      "metadata": {
        "id": "uBI4ZbqsOGIP",
        "colab_type": "code",
        "outputId": "4cddff97-1edb-4f03-c885-ede61505a917",
        "colab": {
          "base_uri": "https://localhost:8080/",
          "height": 51
        }
      },
      "cell_type": "code",
      "source": [
        "location = (13.4125, 103.866667)\n",
        "print(\"Latitude:\", location[0])\n",
        "print(\"Longitude:\", location[1])"
      ],
      "execution_count": 0,
      "outputs": [
        {
          "output_type": "stream",
          "text": [
            "Latitude: 13.4125\n",
            "Longitude: 103.866667\n"
          ],
          "name": "stdout"
        }
      ]
    },
    {
      "metadata": {
        "id": "ElMXc59KRR0D",
        "colab_type": "code",
        "outputId": "409e9d07-b67f-47db-ac7d-18efffbefec9",
        "colab": {
          "base_uri": "https://localhost:8080/",
          "height": 34
        }
      },
      "cell_type": "code",
      "source": [
        "dimensions = 52, 40, 100\n",
        "length, width, height = dimensions\n",
        "print(\"The dimensions are {} x {} x {}\".format(length, width, height))"
      ],
      "execution_count": 0,
      "outputs": [
        {
          "output_type": "stream",
          "text": [
            "The dimensions are 52 x 40 x 100\n"
          ],
          "name": "stdout"
        }
      ]
    },
    {
      "metadata": {
        "id": "Yj-rz7EXRkAG",
        "colab_type": "code",
        "outputId": "30256635-6321-4c24-83a6-8587db042f88",
        "colab": {
          "base_uri": "https://localhost:8080/",
          "height": 34
        }
      },
      "cell_type": "code",
      "source": [
        "length, width, height = 52, 40, 100\n",
        "print(\"The dimensions are {} x {} x {}\".format(length, width, height))"
      ],
      "execution_count": 0,
      "outputs": [
        {
          "output_type": "stream",
          "text": [
            "The dimensions are 52 x 40 x 100\n"
          ],
          "name": "stdout"
        }
      ]
    },
    {
      "metadata": {
        "id": "Mm8onZoXXR5a",
        "colab_type": "code",
        "outputId": "d301cb96-0b10-4990-b673-f359a7994536",
        "colab": {
          "base_uri": "https://localhost:8080/",
          "height": 51
        }
      },
      "cell_type": "code",
      "source": [
        "tuple_a = 1, 2\n",
        "tuple_b = (1, 2)\n",
        "\n",
        "print(tuple_a == tuple_b)\n",
        "print(tuple_a[1])"
      ],
      "execution_count": 0,
      "outputs": [
        {
          "output_type": "stream",
          "text": [
            "True\n",
            "2\n"
          ],
          "name": "stdout"
        }
      ]
    },
    {
      "metadata": {
        "id": "XiFmvXktYfeE",
        "colab_type": "code",
        "outputId": "cce84c13-b32c-470d-d003-2ec6432f41cf",
        "colab": {
          "base_uri": "https://localhost:8080/",
          "height": 51
        }
      },
      "cell_type": "code",
      "source": [
        "## You may test any code out here. Use Test Run to see your output\n",
        "tuple_a = 1, 2\n",
        "tuple_b = (1, 2)\n",
        "\n",
        "print(tuple_a == tuple_b)\n",
        "print(tuple_a[1])"
      ],
      "execution_count": 0,
      "outputs": [
        {
          "output_type": "stream",
          "text": [
            "True\n",
            "2\n"
          ],
          "name": "stdout"
        }
      ]
    },
    {
      "metadata": {
        "id": "W6nbyKyAaZs9",
        "colab_type": "code",
        "colab": {}
      },
      "cell_type": "code",
      "source": [
        "arr = ['a', 'b', 'c', 'd', 'e', 'f', 'g']"
      ],
      "execution_count": 0,
      "outputs": []
    },
    {
      "metadata": {
        "id": "4-mQMSrnabOe",
        "colab_type": "code",
        "outputId": "e20a764a-0286-4613-a2e4-05906c549d42",
        "colab": {
          "base_uri": "https://localhost:8080/",
          "height": 34
        }
      },
      "cell_type": "code",
      "source": [
        "arr[2:6]"
      ],
      "execution_count": 0,
      "outputs": [
        {
          "output_type": "execute_result",
          "data": {
            "text/plain": [
              "['c', 'd', 'e', 'f']"
            ]
          },
          "metadata": {
            "tags": []
          },
          "execution_count": 15
        }
      ]
    },
    {
      "metadata": {
        "id": "Jko7eA3Ba3uy",
        "colab_type": "code",
        "outputId": "21cf8f5e-3bc8-42d0-f87c-b8e2b5d7b04a",
        "colab": {
          "base_uri": "https://localhost:8080/",
          "height": 34
        }
      },
      "cell_type": "code",
      "source": [
        "arr[0:3]"
      ],
      "execution_count": 0,
      "outputs": [
        {
          "output_type": "execute_result",
          "data": {
            "text/plain": [
              "['a', 'b', 'c']"
            ]
          },
          "metadata": {
            "tags": []
          },
          "execution_count": 16
        }
      ]
    },
    {
      "metadata": {
        "id": "wOSM8NimbLZ9",
        "colab_type": "code",
        "outputId": "9c74f687-116f-4356-afe6-bfc62b5f1d1d",
        "colab": {
          "base_uri": "https://localhost:8080/",
          "height": 34
        }
      },
      "cell_type": "code",
      "source": [
        "arr[:3]"
      ],
      "execution_count": 0,
      "outputs": [
        {
          "output_type": "execute_result",
          "data": {
            "text/plain": [
              "['a', 'b', 'c']"
            ]
          },
          "metadata": {
            "tags": []
          },
          "execution_count": 17
        }
      ]
    },
    {
      "metadata": {
        "id": "v3ttsCdRbT-O",
        "colab_type": "code",
        "outputId": "85a696ab-b91f-4e26-bfa3-45d6321a4db7",
        "colab": {
          "base_uri": "https://localhost:8080/",
          "height": 34
        }
      },
      "cell_type": "code",
      "source": [
        "arr[4:]"
      ],
      "execution_count": 0,
      "outputs": [
        {
          "output_type": "execute_result",
          "data": {
            "text/plain": [
              "['e', 'f', 'g']"
            ]
          },
          "metadata": {
            "tags": []
          },
          "execution_count": 18
        }
      ]
    },
    {
      "metadata": {
        "id": "WgKkTHrwbpjR",
        "colab_type": "code",
        "outputId": "62f4dfa1-332e-47a9-f475-4ca69962008a",
        "colab": {
          "base_uri": "https://localhost:8080/",
          "height": 34
        }
      },
      "cell_type": "code",
      "source": [
        "arr[:2]"
      ],
      "execution_count": 0,
      "outputs": [
        {
          "output_type": "execute_result",
          "data": {
            "text/plain": [
              "['a', 'b']"
            ]
          },
          "metadata": {
            "tags": []
          },
          "execution_count": 32
        }
      ]
    },
    {
      "metadata": {
        "id": "BNDBvVNGcByt",
        "colab_type": "code",
        "outputId": "4b99877b-c7d8-43be-dcaf-9a51f4aafb38",
        "colab": {
          "base_uri": "https://localhost:8080/",
          "height": 34
        }
      },
      "cell_type": "code",
      "source": [
        "arr[1:2]"
      ],
      "execution_count": 0,
      "outputs": [
        {
          "output_type": "execute_result",
          "data": {
            "text/plain": [
              "['b']"
            ]
          },
          "metadata": {
            "tags": []
          },
          "execution_count": 22
        }
      ]
    },
    {
      "metadata": {
        "id": "IpsV37xBccFx",
        "colab_type": "code",
        "outputId": "18542618-996f-4069-b9b2-4f3f3ba23aa5",
        "colab": {
          "base_uri": "https://localhost:8080/",
          "height": 34
        }
      },
      "cell_type": "code",
      "source": [
        "x=\"bardzo śmieszne kroki\"\n",
        "len(x)"
      ],
      "execution_count": 0,
      "outputs": [
        {
          "output_type": "execute_result",
          "data": {
            "text/plain": [
              "21"
            ]
          },
          "metadata": {
            "tags": []
          },
          "execution_count": 23
        }
      ]
    },
    {
      "metadata": {
        "id": "m_ssq2T7evWe",
        "colab_type": "code",
        "outputId": "7a791e6e-2cff-451c-cc8f-5930b1b68b4e",
        "colab": {
          "base_uri": "https://localhost:8080/",
          "height": 34
        }
      },
      "cell_type": "code",
      "source": [
        "x[0]"
      ],
      "execution_count": 0,
      "outputs": [
        {
          "output_type": "execute_result",
          "data": {
            "text/plain": [
              "'b'"
            ]
          },
          "metadata": {
            "tags": []
          },
          "execution_count": 24
        }
      ]
    },
    {
      "metadata": {
        "id": "x7CWVHc1e0kn",
        "colab_type": "code",
        "outputId": "87b02789-6fa5-472d-9b6b-856ab0b552d5",
        "colab": {
          "base_uri": "https://localhost:8080/",
          "height": 34
        }
      },
      "cell_type": "code",
      "source": [
        "x[len(x)-1]"
      ],
      "execution_count": 0,
      "outputs": [
        {
          "output_type": "execute_result",
          "data": {
            "text/plain": [
              "'i'"
            ]
          },
          "metadata": {
            "tags": []
          },
          "execution_count": 25
        }
      ]
    },
    {
      "metadata": {
        "id": "fVpWt0BWfTIT",
        "colab_type": "code",
        "outputId": "aeba6ce7-0217-43d7-f275-47deecd368b2",
        "colab": {
          "base_uri": "https://localhost:8080/",
          "height": 34
        }
      },
      "cell_type": "code",
      "source": [
        "x[0:6]"
      ],
      "execution_count": 0,
      "outputs": [
        {
          "output_type": "execute_result",
          "data": {
            "text/plain": [
              "'bardzo'"
            ]
          },
          "metadata": {
            "tags": []
          },
          "execution_count": 26
        }
      ]
    },
    {
      "metadata": {
        "id": "nO67UrUMfzun",
        "colab_type": "code",
        "outputId": "fd4ccc40-e0cf-4cc7-a757-ceb8ad7b023e",
        "colab": {
          "base_uri": "https://localhost:8080/",
          "height": 34
        }
      },
      "cell_type": "code",
      "source": [
        "x[0:6:2]"
      ],
      "execution_count": 0,
      "outputs": [
        {
          "output_type": "execute_result",
          "data": {
            "text/plain": [
              "'brz'"
            ]
          },
          "metadata": {
            "tags": []
          },
          "execution_count": 27
        }
      ]
    },
    {
      "metadata": {
        "id": "ZoDKYd6UgOf7",
        "colab_type": "code",
        "outputId": "a740f36b-74b6-4f36-af14-1004d08648db",
        "colab": {
          "base_uri": "https://localhost:8080/",
          "height": 34
        }
      },
      "cell_type": "code",
      "source": [
        "x[-20:]"
      ],
      "execution_count": 0,
      "outputs": [
        {
          "output_type": "execute_result",
          "data": {
            "text/plain": [
              "'ardzo śmieszne kroki'"
            ]
          },
          "metadata": {
            "tags": []
          },
          "execution_count": 31
        }
      ]
    },
    {
      "metadata": {
        "id": "3SEAwiU4g0hI",
        "colab_type": "code",
        "outputId": "b1c27246-ade7-45ad-c581-51ecc1e46ab7",
        "colab": {
          "base_uri": "https://localhost:8080/",
          "height": 34
        }
      },
      "cell_type": "code",
      "source": [
        "x[slice(6)]"
      ],
      "execution_count": 0,
      "outputs": [
        {
          "output_type": "execute_result",
          "data": {
            "text/plain": [
              "'bardzo'"
            ]
          },
          "metadata": {
            "tags": []
          },
          "execution_count": 34
        }
      ]
    },
    {
      "metadata": {
        "id": "Q-yPlYjIkIc-",
        "colab_type": "code",
        "outputId": "fb5d6780-0803-44e0-f197-5958ccd635f5",
        "colab": {
          "base_uri": "https://localhost:8080/",
          "height": 34
        }
      },
      "cell_type": "code",
      "source": [
        "x[slice(0,-20,1)]"
      ],
      "execution_count": 0,
      "outputs": [
        {
          "output_type": "execute_result",
          "data": {
            "text/plain": [
              "'b'"
            ]
          },
          "metadata": {
            "tags": []
          },
          "execution_count": 38
        }
      ]
    },
    {
      "metadata": {
        "id": "z4r--h7D02w5",
        "colab_type": "code",
        "outputId": "ed4241b2-1d47-4a42-ae94-52b167ae36a2",
        "colab": {
          "base_uri": "https://localhost:8080/",
          "height": 34
        }
      },
      "cell_type": "code",
      "source": [
        "numbers = [1, 2, 6, 3, 1, 1, 6]\n",
        "unique_nums = set(numbers)\n",
        "print(unique_nums)"
      ],
      "execution_count": 0,
      "outputs": [
        {
          "output_type": "stream",
          "text": [
            "{1, 2, 3, 6}\n"
          ],
          "name": "stdout"
        }
      ]
    },
    {
      "metadata": {
        "id": "hd4hhFrGkQHH",
        "colab_type": "code",
        "outputId": "a334e5a5-d6ee-4638-cc15-7f3322005d95",
        "colab": {
          "base_uri": "https://localhost:8080/",
          "height": 85
        }
      },
      "cell_type": "code",
      "source": [
        "fruit = {\"apple\", \"banana\", \"orange\", \"grapefruit\"}  # define a set\n",
        "\n",
        "print(\"watermelon\" in fruit)  # check for element\n",
        "\n",
        "fruit.add(\"watermelon\")  # add an element\n",
        "print(fruit)\n",
        "\n",
        "print(fruit.pop())  # remove a random element\n",
        "print(fruit)"
      ],
      "execution_count": 0,
      "outputs": [
        {
          "output_type": "stream",
          "text": [
            "False\n",
            "{'orange', 'watermelon', 'grapefruit', 'apple', 'banana'}\n",
            "orange\n",
            "{'watermelon', 'grapefruit', 'apple', 'banana'}\n"
          ],
          "name": "stdout"
        }
      ]
    },
    {
      "metadata": {
        "id": "cG4QNei71UON",
        "colab_type": "code",
        "outputId": "8e02df56-ed95-46ae-855d-34e8c6523adc",
        "colab": {
          "base_uri": "https://localhost:8080/",
          "height": 34
        }
      },
      "cell_type": "code",
      "source": [
        "a = [1, 2, 2, 3, 3, 3, 4, 4, 4, 4]\n",
        "b = set(a)\n",
        "print(len(a) - len(b))"
      ],
      "execution_count": 0,
      "outputs": [
        {
          "output_type": "stream",
          "text": [
            "6\n"
          ],
          "name": "stdout"
        }
      ]
    },
    {
      "metadata": {
        "id": "YOG6ZDfb1gvq",
        "colab_type": "code",
        "outputId": "04b0c07b-a98f-4288-a959-9701daa2a997",
        "colab": {
          "base_uri": "https://localhost:8080/",
          "height": 34
        }
      },
      "cell_type": "code",
      "source": [
        "a = [1, 2, 2, 3, 3, 3, 4, 4, 4, 4]\n",
        "b = set(a)\n",
        "b.add(5)\n",
        "b.pop()"
      ],
      "execution_count": 0,
      "outputs": [
        {
          "output_type": "execute_result",
          "data": {
            "text/plain": [
              "1"
            ]
          },
          "metadata": {
            "tags": []
          },
          "execution_count": 42
        }
      ]
    },
    {
      "metadata": {
        "id": "VIKDGibi1vrn",
        "colab_type": "code",
        "outputId": "2f349166-90d0-4ba4-9cc6-ffbc4a31fd8a",
        "colab": {
          "base_uri": "https://localhost:8080/",
          "height": 51
        }
      },
      "cell_type": "code",
      "source": [
        "## You may test any code out here. Use Test Run to see your output\n",
        "a = [1, 2, 2, 3, 3, 3, 4, 4, 4, 4]\n",
        "b = set(a)\n",
        "print(len(a) - len(b))\n",
        "a = [1, 2, 2, 3, 3, 3, 4, 4, 4, 4]\n",
        "b = set(a)\n",
        "b.add(5)\n",
        "b.pop()"
      ],
      "execution_count": 0,
      "outputs": [
        {
          "output_type": "stream",
          "text": [
            "6\n"
          ],
          "name": "stdout"
        },
        {
          "output_type": "execute_result",
          "data": {
            "text/plain": [
              "1"
            ]
          },
          "metadata": {
            "tags": []
          },
          "execution_count": 43
        }
      ]
    },
    {
      "metadata": {
        "id": "WX_0cy8BxBNS",
        "colab_type": "code",
        "colab": {}
      },
      "cell_type": "code",
      "source": [
        "elements = {\"hydrogen\": 1, \"helium\": 2, \"carbon\": 6}"
      ],
      "execution_count": 0,
      "outputs": []
    },
    {
      "metadata": {
        "id": "lf5EUZJgxCQg",
        "colab_type": "code",
        "outputId": "66c367a2-fc55-4350-dc10-e091ca21601e",
        "colab": {
          "base_uri": "https://localhost:8080/",
          "height": 34
        }
      },
      "cell_type": "code",
      "source": [
        "print(elements[\"helium\"])  # print the value mapped to \"helium\"\n",
        "elements[\"lithium\"] = 3  # insert \"lithium\" with a value of 3 into the dictionary"
      ],
      "execution_count": 0,
      "outputs": [
        {
          "output_type": "stream",
          "text": [
            "2\n"
          ],
          "name": "stdout"
        }
      ]
    },
    {
      "metadata": {
        "id": "CDAqsDOGxMJz",
        "colab_type": "code",
        "outputId": "bde34050-7c76-44e5-c6dd-89e0f40ff89b",
        "colab": {
          "base_uri": "https://localhost:8080/",
          "height": 51
        }
      },
      "cell_type": "code",
      "source": [
        "print(\"carbon\" in elements)\n",
        "print(elements.get(\"dilithium\"))"
      ],
      "execution_count": 0,
      "outputs": [
        {
          "output_type": "stream",
          "text": [
            "True\n",
            "None\n"
          ],
          "name": "stdout"
        }
      ]
    },
    {
      "metadata": {
        "id": "I-nHTjmLxVIJ",
        "colab_type": "code",
        "outputId": "20fb42e3-eef8-4816-c233-db4ad851740c",
        "colab": {
          "base_uri": "https://localhost:8080/",
          "height": 51
        }
      },
      "cell_type": "code",
      "source": [
        "n = elements.get(\"dilithium\")\n",
        "print(n is None)\n",
        "print(n is not None)"
      ],
      "execution_count": 0,
      "outputs": [
        {
          "output_type": "stream",
          "text": [
            "True\n",
            "False\n"
          ],
          "name": "stdout"
        }
      ]
    },
    {
      "metadata": {
        "id": "3gFuC2rfxh-b",
        "colab_type": "code",
        "colab": {}
      },
      "cell_type": "code",
      "source": [
        "# Define a Dictionary, population,\n",
        "# that provides information\n",
        "# on the world's largest cities.\n",
        "# The key is the name of a city\n",
        "# (a string), and the associated\n",
        "# value is its population in\n",
        "# millions of people.\n",
        "\n",
        "#   Key     |   Value\n",
        "# Shanghai  |   17.8\n",
        "# Istanbul  |   13.3\n",
        "# Karachi   |   13.0\n",
        "# Mumba>>>  |    12.5     \n",
        "population = {'Shanghai': 17.8,\n",
        "              'Istanbul': 13.3,\n",
        "              'Karachi': 13.0,\n",
        "              'Mumbai': 12.5}\n",
        "population = {'Shanghai': 17.8,\n",
        "              'Istanbul': 13.3,\n",
        "              'Karachi': 13.0,\n",
        "              'Mumbai': 12.5}\n",
        "\n",
        "population = {'Shanghai': 17.8, 'Istanbul': 13.3, 'Karachi': 13.0, 'Mumbai': 12.5}"
      ],
      "execution_count": 0,
      "outputs": []
    },
    {
      "metadata": {
        "id": "NzN1MN2Mya92",
        "colab_type": "code",
        "colab": {}
      },
      "cell_type": "code",
      "source": [
        "animals = {'dogs': [20, 10, 15, 8, 32, 15], 'cats': [3,4,2,8,2,4], 'rabbits': [2, 3, 3], 'fish': [0.3, 0.5, 0.8, 0.3, 1]}"
      ],
      "execution_count": 0,
      "outputs": []
    },
    {
      "metadata": {
        "id": "M-vGWV2PyzGv",
        "colab_type": "code",
        "outputId": "bb9ffa60-4091-4a3d-8f55-a627cd42571a",
        "colab": {
          "base_uri": "https://localhost:8080/",
          "height": 129
        }
      },
      "cell_type": "code",
      "source": [
        "animals = {'dogs': [20, 10, 15, 8, 32, 15], \n",
        " 'cats': [3,4,2,8,2,4], \n",
        " 'rabbits': [2, 3, 3], \n",
        " 'fish': [0.3, 0.5, 0.8, 0.3, 1]}\n",
        "\n",
        " print(animals['dogs'][3])."
      ],
      "execution_count": 0,
      "outputs": [
        {
          "output_type": "error",
          "ename": "IndentationError",
          "evalue": "ignored",
          "traceback": [
            "\u001b[0;36m  File \u001b[0;32m\"<ipython-input-8-58060c7fa783>\"\u001b[0;36m, line \u001b[0;32m6\u001b[0m\n\u001b[0;31m    print(animals['dogs'][3]).\u001b[0m\n\u001b[0m    ^\u001b[0m\n\u001b[0;31mIndentationError\u001b[0m\u001b[0;31m:\u001b[0m unexpected indent\n"
          ]
        }
      ]
    },
    {
      "metadata": {
        "id": "5mOHm9YQzBJg",
        "colab_type": "code",
        "outputId": "64062d52-d0f3-451e-b4e0-1d2ac7188b04",
        "colab": {
          "base_uri": "https://localhost:8080/",
          "height": 34
        }
      },
      "cell_type": "code",
      "source": [
        "print(animals['fish'])"
      ],
      "execution_count": 0,
      "outputs": [
        {
          "output_type": "stream",
          "text": [
            "[0.3, 0.5, 0.8, 0.3, 1]\n"
          ],
          "name": "stdout"
        }
      ]
    },
    {
      "metadata": {
        "id": "Z1Ehy0rJzYkE",
        "colab_type": "code",
        "outputId": "4e055b84-1eae-4780-dffd-97d526759dcb",
        "colab": {
          "base_uri": "https://localhost:8080/",
          "height": 34
        }
      },
      "cell_type": "code",
      "source": [
        " print(animals['dogs'][3])"
      ],
      "execution_count": 0,
      "outputs": [
        {
          "output_type": "stream",
          "text": [
            "8\n"
          ],
          "name": "stdout"
        }
      ]
    },
    {
      "metadata": {
        "id": "neoFIV27zgzt",
        "colab_type": "code",
        "outputId": "7950c9c0-3b22-4af7-8da9-1a9fd6969356",
        "colab": {
          "base_uri": "https://localhost:8080/",
          "height": 34
        }
      },
      "cell_type": "code",
      "source": [
        "print(animals['dogs'])"
      ],
      "execution_count": 0,
      "outputs": [
        {
          "output_type": "stream",
          "text": [
            "[20, 10, 15, 8, 32, 15]\n"
          ],
          "name": "stdout"
        }
      ]
    },
    {
      "metadata": {
        "id": "15We-a4fzqw_",
        "colab_type": "code",
        "colab": {}
      },
      "cell_type": "code",
      "source": [
        "VINIX =  {'C': 0.74, 'MA': 0.78, 'BA': 0.79, 'PG': 0.85, 'CSCO': 0.88, 'VZ': 0.9, 'PFE': 0.92, 'HD': 0.97, 'INTC': 1.0, 'T': 1.01, 'V': 1.02, 'UNH': 1.02, 'WFC': 1.05, 'CVX': 1.05, 'BAC': 1.15, 'JNJ': 1.41, 'GOOGL': 1.46, 'GOOG': 1.47, 'BRK.B': 1.5, 'XOM': 1.52, 'JPM': 1.53, 'FB': 2.02, 'AMZN': 2.96, 'MSFT': 3.28, 'AAPL': 3.94}"
      ],
      "execution_count": 0,
      "outputs": []
    },
    {
      "metadata": {
        "id": "XtLTu1mJ0Dx6",
        "colab_type": "code",
        "colab": {}
      },
      "cell_type": "code",
      "source": [
        "VINIX = {'C': [0.74, -6.51],  'MA': [0.78, 34.77],  'BA': [0.79, 17.01],  'PG': [0.85, -8.81],  'CSCO': [0.88, 18.56],  'VZ': [0.9, 2.16],  'PFE': [0.92, 13.96],  'HD': [0.97, 3.2],  'INTC': [1.0, 2.61],  'T': [1.01, -15.19],  'V': [1.02, 24.0],  'UNH': [1.02, 19.32],  'WFC': [1.05, -3.59],  'CVX': [1.05, -5.77],  'BAC': [1.15, 4.27],  'JNJ': [1.41, -5.58],  'GOOGL': [1.46, 17.84],  'GOOG': [1.47, 17.03],  'BRK.B': [1.5, 4.54],  'XOM': [1.52, -6.87],  'JPM': [1.53, 7.66],  'FB': [2.02, 0.91], 'AMZN': [2.96, 62.75], 'MSFT': [3.28, 26.61], 'AAPL': [3.94, 26.01]}"
      ],
      "execution_count": 0,
      "outputs": []
    },
    {
      "metadata": {
        "id": "wz3xTPg_0bZG",
        "colab_type": "code",
        "colab": {}
      },
      "cell_type": "code",
      "source": [
        "elements = {\"hydrogen\": {\"number\": 1,\n",
        "                         \"weight\": 1.00794,\n",
        "                         \"symbol\": \"H\"},\n",
        "              \"helium\": {\"number\": 2,\n",
        "                         \"weight\": 4.002602,\n",
        "                         \"symbol\": \"He\"}}"
      ],
      "execution_count": 0,
      "outputs": []
    },
    {
      "metadata": {
        "id": "sgz0Zpii0xih",
        "colab_type": "code",
        "colab": {}
      },
      "cell_type": "code",
      "source": [
        "helium = elements[\"helium\"]  # get the helium dictionary\n",
        "hydrogen_weight = elements[\"hydrogen\"][\"weight\"]  # get hydrogen's weight"
      ],
      "execution_count": 0,
      "outputs": []
    },
    {
      "metadata": {
        "id": "MY1UNYn101JA",
        "colab_type": "code",
        "outputId": "99d4cbd5-e4c0-462d-cc79-4c591d61ea74",
        "colab": {
          "base_uri": "https://localhost:8080/",
          "height": 54
        }
      },
      "cell_type": "code",
      "source": [
        "oxygen = {\"number\":8,\"weight\":15.999,\"symbol\":\"O\"}  # create a new oxygen dictionary \n",
        "elements[\"oxygen\"] = oxygen  # assign 'oxygen' as a key to the elements dictionary\n",
        "print('elements = ', elements)"
      ],
      "execution_count": 0,
      "outputs": [
        {
          "output_type": "stream",
          "text": [
            "elements =  {'hydrogen': {'number': 1, 'weight': 1.00794, 'symbol': 'H'}, 'helium': {'number': 2, 'weight': 4.002602, 'symbol': 'He'}, 'oxygen': {'number': 8, 'weight': 15.999, 'symbol': 'O'}}\n"
          ],
          "name": "stdout"
        }
      ]
    },
    {
      "metadata": {
        "id": "2Sg3X4DD05da",
        "colab_type": "code",
        "colab": {}
      },
      "cell_type": "code",
      "source": [
        "elements =  {\"hydrogen\": {\"number\": 1,\n",
        "                          \"weight\": 1.00794,\n",
        "                          \"symbol\": 'H'},\n",
        "               \"helium\": {\"number\": 2,\n",
        "                          \"weight\": 4.002602,\n",
        "                          \"symbol\": \"He\"}, \n",
        "               \"oxygen\": {\"number\": 8, \n",
        "                          \"weight\": 15.999, \n",
        "                          \"symbol\": \"O\"}}"
      ],
      "execution_count": 0,
      "outputs": []
    },
    {
      "metadata": {
        "id": "TKB02Wu81i3g",
        "colab_type": "code",
        "colab": {}
      },
      "cell_type": "code",
      "source": [
        "lements = {'hydrogen': {'number': 1, 'weight': 1.00794, 'symbol': 'H'},\n",
        "            'helium': {'number': 2, 'weight': 4.002602, 'symbol': 'He'}}\n",
        "\n",
        "elements = {'hydrogen': {'number': 1, 'weight': 1.00794, 'symbol': 'H'},\n",
        "            'helium': {'number': 2, 'weight': 4.002602, 'symbol': 'He'}}\n",
        "\n",
        "elements['hydrogen']['is_noble_gas'] = False\n",
        "elements['helium']['is_noble_gas'] = True"
      ],
      "execution_count": 0,
      "outputs": []
    },
    {
      "metadata": {
        "id": "4jJ5lWMs4lrn",
        "colab_type": "code",
        "outputId": "5eb0dce5-373c-44c9-c5c7-ae7104e6b872",
        "colab": {
          "base_uri": "https://localhost:8080/",
          "height": 156
        }
      },
      "cell_type": "code",
      "source": [
        "verse = \"if you can keep your head when all about you are losing theirs and blaming it on you   if you can trust yourself when all men doubt you     but make allowance for their doubting too   if you can wait and not be tired by waiting      or being lied about  don’t deal in lies   or being hated  don’t give way to hating      and yet don’t look too good  nor talk too wise\"\n",
        "print(verse, '\\n')\n",
        "\n",
        "# split verse into list of words\n",
        "verse_list = verse.split()\n",
        "print(verse_list, '\\n')\n",
        "\n",
        "# convert list to set to get unique words\n",
        "verse_set = set(verse_list)\n",
        "print(verse_set, '\\n')\n",
        "\n",
        "# print the number of unique words\n",
        "num_unique = len(verse_set)\n",
        "print(num_unique)"
      ],
      "execution_count": 0,
      "outputs": [
        {
          "output_type": "stream",
          "text": [
            "if you can keep your head when all about you are losing theirs and blaming it on you   if you can trust yourself when all men doubt you     but make allowance for their doubting too   if you can wait and not be tired by waiting      or being lied about  don’t deal in lies   or being hated  don’t give way to hating      and yet don’t look too good  nor talk too wise \n",
            "\n",
            "['if', 'you', 'can', 'keep', 'your', 'head', 'when', 'all', 'about', 'you', 'are', 'losing', 'theirs', 'and', 'blaming', 'it', 'on', 'you', 'if', 'you', 'can', 'trust', 'yourself', 'when', 'all', 'men', 'doubt', 'you', 'but', 'make', 'allowance', 'for', 'their', 'doubting', 'too', 'if', 'you', 'can', 'wait', 'and', 'not', 'be', 'tired', 'by', 'waiting', 'or', 'being', 'lied', 'about', 'don’t', 'deal', 'in', 'lies', 'or', 'being', 'hated', 'don’t', 'give', 'way', 'to', 'hating', 'and', 'yet', 'don’t', 'look', 'too', 'good', 'nor', 'talk', 'too', 'wise'] \n",
            "\n",
            "{'way', 'all', 'by', 'be', 'too', 'doubting', 'are', 'your', 'on', 'doubt', 'when', 'lies', 'wait', 'can', 'waiting', 'look', 'yet', 'good', 'wise', 'hating', 'talk', 'you', 'allowance', 'deal', 'about', 'nor', 'head', 'if', 'their', 'blaming', 'in', 'hated', 'it', 'yourself', 'tired', 'not', 'don’t', 'being', 'but', 'keep', 'men', 'losing', 'make', 'theirs', 'trust', 'lied', 'and', 'or', 'for', 'to', 'give'} \n",
            "\n",
            "51\n"
          ],
          "name": "stdout"
        }
      ]
    },
    {
      "metadata": {
        "id": "suAOQD1TY6r1",
        "colab_type": "code",
        "outputId": "22486996-fde6-4bf0-c6a7-e7cf5ae8acb5",
        "colab": {
          "base_uri": "https://localhost:8080/",
          "height": 85
        }
      },
      "cell_type": "code",
      "source": [
        "#First Example - try changing the value of phone_balance\n",
        "phone_balance = 10\n",
        "bank_balance = 50\n",
        "\n",
        "if phone_balance < 10:\n",
        "    phone_balance += 10\n",
        "    bank_balance -= 10\n",
        "\n",
        "print(phone_balance)\n",
        "print(bank_balance)\n",
        "\n",
        "#Second Example - try changing the value of number\n",
        "\n",
        "number = 145\n",
        "if number % 2 == 0:\n",
        "    print(\"Number \" + str(number) + \" is even.\")\n",
        "else:\n",
        "    print(\"Number \" + str(number) + \" is odd.\")\n",
        "\n",
        "#Third Example - try to change the value of age\n",
        "age = 35\n",
        "\n",
        "# Here are the age limits for bus fares\n",
        "free_up_to_age = 4\n",
        "child_up_to_age = 18\n",
        "senior_from_age = 65\n",
        "\n",
        "# These lines determine the bus fare prices\n",
        "concession_ticket = 1.25\n",
        "adult_ticket = 2.50\n",
        "\n",
        "# Here is the logic for bus fare prices\n",
        "if age <= free_up_to_age:\n",
        "    ticket_price = 0\n",
        "elif age <= child_up_to_age:\n",
        "    ticket_price = concession_ticket\n",
        "elif age >= senior_from_age:\n",
        "    ticket_price = concession_ticket\n",
        "else:\n",
        "    ticket_price = adult_ticket\n",
        "\n",
        "message = \"Somebody who is {} years old will pay ${} to ride the bus.\".format(age, ticket_price)\n",
        "print(message)"
      ],
      "execution_count": 0,
      "outputs": [
        {
          "output_type": "stream",
          "text": [
            "10\n",
            "50\n",
            "Number 145 is odd.\n",
            "Somebody who is 35 years old will pay $2.5 to ride the bus.\n"
          ],
          "name": "stdout"
        }
      ]
    },
    {
      "metadata": {
        "id": "Dbp30bTdY_l-",
        "colab_type": "code",
        "colab": {}
      },
      "cell_type": "code",
      "source": [
        "if phone_balance < 5:\n",
        "    phone_balance += 10\n",
        "    bank_balance -= 10\n",
        "    print (phone_balance,bank_balance)"
      ],
      "execution_count": 0,
      "outputs": []
    },
    {
      "metadata": {
        "id": "ieA0fOK6b2Vd",
        "colab_type": "code",
        "outputId": "2b2972fd-ee17-4fb3-cca5-05bab076c4af",
        "colab": {
          "base_uri": "https://localhost:8080/",
          "height": 34
        }
      },
      "cell_type": "code",
      "source": [
        "points = 174  # use this input to make your submission\n",
        "\n",
        "# write your if statement here\n",
        "points = 174\n",
        "\n",
        "if points <= 50:\n",
        "    result = \"Congratulations! You won a wooden rabbit!\"\n",
        "elif points <= 150:\n",
        "    result = \"Oh dear, no prize this time.\"\n",
        "elif points <= 180:\n",
        "    result = \"Congratulations! You won a wafer-thin mint!\"\n",
        "else:\n",
        "    result = \"Congratulations! You won a penguin!\"\n",
        "\n",
        "print(result)\n"
      ],
      "execution_count": 0,
      "outputs": [
        {
          "output_type": "stream",
          "text": [
            "Congratulations! You won a wafer-thin mint!\n"
          ],
          "name": "stdout"
        }
      ]
    },
    {
      "metadata": {
        "id": "E2AclWnXccgH",
        "colab_type": "code",
        "outputId": "881542ea-1983-4dce-852a-d7b31c2ffa9a",
        "colab": {
          "base_uri": "https://localhost:8080/",
          "height": 34
        }
      },
      "cell_type": "code",
      "source": [
        "# '''\n",
        "# You decide you want to play a game where you are hiding \n",
        "# a number from someone.  Store this number in a variable \n",
        "# called 'answer'.  Another user provides a number called\n",
        "# 'guess'.  By comparing guess to answer, you inform the user\n",
        "# if their guess is too high or too low.\n",
        "\n",
        "# Fill in the conditionals below to inform the user about how\n",
        "# their guess compares to the answer.\n",
        "# '''\n",
        "answer = 35\n",
        "guess = 30   \n",
        "\n",
        "if guess < answer:\n",
        "    result = \"Oops!  Your guess was too low.\"\n",
        "elif guess > answer:\n",
        "   result = \"Oops!  Your guess was too high.\"\n",
        "elif guess==answer:\n",
        "    result = \"Nice!  Your guess matched the answer!\"\n",
        "print(result)"
      ],
      "execution_count": 0,
      "outputs": [
        {
          "output_type": "stream",
          "text": [
            "Oops!  Your guess was too low.\n"
          ],
          "name": "stdout"
        }
      ]
    },
    {
      "metadata": {
        "id": "M0NgOpGAceYM",
        "colab_type": "code",
        "outputId": "71caa71f-f357-4912-af53-b5b2acf19fa1",
        "colab": {
          "base_uri": "https://localhost:8080/",
          "height": 34
        }
      },
      "cell_type": "code",
      "source": [
        "state = 'CA'\n",
        "purchase_amount = 20.00    \n",
        "if state == 'CA':\n",
        "    tax_amount = .075\n",
        "    total_cost = purchase_amount*(1+tax_amount)\n",
        "    result = \"Since you're from {}, your total cost is {}.\".format(state, total_cost)\n",
        "\n",
        "elif state == 'MN':\n",
        "    tax_amount = .095\n",
        "    total_cost = purchase_amount*(1+tax_amount)\n",
        "    result = \"Since you're from {}, your total cost is {}.\".format(state, total_cost)\n",
        "\n",
        "elif state == 'NY':\n",
        "    tax_amount = .089\n",
        "    total_cost = purchase_amount*(1+tax_amount)\n",
        "    result = \"Since you're from {}, your total cost is {}.\".format(state, total_cost)\n",
        "\n",
        "print(result)"
      ],
      "execution_count": 0,
      "outputs": [
        {
          "output_type": "stream",
          "text": [
            "Since you're from CA, your total cost is 21.5.\n"
          ],
          "name": "stdout"
        }
      ]
    },
    {
      "metadata": {
        "id": "7TpZudnKde-2",
        "colab_type": "code",
        "outputId": "a09b5155-5f9f-4d38-9721-2b5761412c57",
        "colab": {
          "base_uri": "https://localhost:8080/",
          "height": 34
        }
      },
      "cell_type": "code",
      "source": [
        "errors = 3\n",
        "if errors:\n",
        "    print(\"You have {} errors to fix!\".format(errors))\n",
        "else:\n",
        "    print(\"No errors to fix!\")"
      ],
      "execution_count": 0,
      "outputs": [
        {
          "output_type": "stream",
          "text": [
            "You have 3 errors to fix!\n"
          ],
          "name": "stdout"
        }
      ]
    },
    {
      "metadata": {
        "id": "7Rljfgu-dlJd",
        "colab_type": "code",
        "colab": {}
      },
      "cell_type": "code",
      "source": [
        "altitude = 10000\n",
        "speed = 250\n",
        "propulsion = \"Propeller\""
      ],
      "execution_count": 0,
      "outputs": []
    },
    {
      "metadata": {
        "id": "H0pYKLPhgtWd",
        "colab_type": "code",
        "outputId": "5ca2f0ae-8a74-4de3-bf95-ba3be4235fef",
        "colab": {
          "base_uri": "https://localhost:8080/",
          "height": 34
        }
      },
      "cell_type": "code",
      "source": [
        "altitude < 1000 and speed > 100"
      ],
      "execution_count": 0,
      "outputs": [
        {
          "output_type": "execute_result",
          "data": {
            "text/plain": [
              "False"
            ]
          },
          "metadata": {
            "tags": []
          },
          "execution_count": 15
        }
      ]
    },
    {
      "metadata": {
        "id": "uyYSXd_JgxPR",
        "colab_type": "code",
        "outputId": "65fd02d3-f0de-4651-d064-795ecc7cdd40",
        "colab": {
          "base_uri": "https://localhost:8080/",
          "height": 34
        }
      },
      "cell_type": "code",
      "source": [
        "(propulsion == \"Jet\" or propulsion == \"Turboprop\") and speed < 300 and altitude > 20000"
      ],
      "execution_count": 0,
      "outputs": [
        {
          "output_type": "execute_result",
          "data": {
            "text/plain": [
              "False"
            ]
          },
          "metadata": {
            "tags": []
          },
          "execution_count": 16
        }
      ]
    },
    {
      "metadata": {
        "id": "Pl44wcgUg0UP",
        "colab_type": "code",
        "outputId": "d98202d9-a081-477c-c7b4-f6f1eedc368c",
        "colab": {
          "base_uri": "https://localhost:8080/",
          "height": 34
        }
      },
      "cell_type": "code",
      "source": [
        "not (speed > 400 and propulsion == \"Propeller\")"
      ],
      "execution_count": 0,
      "outputs": [
        {
          "output_type": "execute_result",
          "data": {
            "text/plain": [
              "True"
            ]
          },
          "metadata": {
            "tags": []
          },
          "execution_count": 17
        }
      ]
    },
    {
      "metadata": {
        "id": "K55A4AZdg3-g",
        "colab_type": "code",
        "outputId": "acfd00d5-8ca8-471b-9b7b-1e2621e14a3c",
        "colab": {
          "base_uri": "https://localhost:8080/",
          "height": 34
        }
      },
      "cell_type": "code",
      "source": [
        "(altitude > 500 and speed > 100) or not propulsion == \"Propeller\""
      ],
      "execution_count": 0,
      "outputs": [
        {
          "output_type": "execute_result",
          "data": {
            "text/plain": [
              "True"
            ]
          },
          "metadata": {
            "tags": []
          },
          "execution_count": 18
        }
      ]
    },
    {
      "metadata": {
        "id": "ovWqYFkphRoO",
        "colab_type": "code",
        "outputId": "c1f5a0c1-b70a-4075-a232-74927b712e43",
        "colab": {
          "base_uri": "https://localhost:8080/",
          "height": 34
        }
      },
      "cell_type": "code",
      "source": [
        "points = 174  \n",
        "\n",
        "if points <= 50:\n",
        "    prize = \"wooden rabbit\"\n",
        "elif 151 <= points <= 180:\n",
        "    prize = \"wafer-thin mint\"\n",
        "elif points >= 181:\n",
        "    prize = \"penguin\"\n",
        "\n",
        "# use the truth value of prize to assign result to the correct message\n",
        "if prize:\n",
        "    result = \"Congratulations! You won a {}!\".format(prize)\n",
        "else:\n",
        "    result = \"Oh dear, no prize this time.\"\n",
        "\n",
        "print(result)"
      ],
      "execution_count": 0,
      "outputs": [
        {
          "output_type": "stream",
          "text": [
            "Congratulations! You won a wafer-thin mint!\n"
          ],
          "name": "stdout"
        }
      ]
    },
    {
      "metadata": {
        "id": "z_va9_-ihrID",
        "colab_type": "code",
        "outputId": "b5ec02e0-8744-4753-c1cf-b61c55d3e422",
        "colab": {
          "base_uri": "https://localhost:8080/",
          "height": 34
        }
      },
      "cell_type": "code",
      "source": [
        "errors = 3\n",
        "if errors:\n",
        "    print(\"You have {} errors to fix!\".format(errors))\n",
        "else:\n",
        "    print(\"No errors to fix!\")"
      ],
      "execution_count": 0,
      "outputs": [
        {
          "output_type": "stream",
          "text": [
            "You have 3 errors to fix!\n"
          ],
          "name": "stdout"
        }
      ]
    },
    {
      "metadata": {
        "id": "T6YE0QEr-Vbn",
        "colab_type": "code",
        "colab": {
          "base_uri": "https://localhost:8080/",
          "height": 102
        },
        "outputId": "df803261-c209-432a-ef0d-2299e25942d0"
      },
      "cell_type": "code",
      "source": [
        "cities = ['new york city', 'mountain view', 'chicago', 'los angeles']\n",
        "for city in cities:\n",
        "    print(city)\n",
        "print(\"Done!\")"
      ],
      "execution_count": 1,
      "outputs": [
        {
          "output_type": "stream",
          "text": [
            "new york city\n",
            "mountain view\n",
            "chicago\n",
            "los angeles\n",
            "Done!\n"
          ],
          "name": "stdout"
        }
      ]
    },
    {
      "metadata": {
        "id": "TMdUrogu-WpW",
        "colab_type": "code",
        "colab": {
          "base_uri": "https://localhost:8080/",
          "height": 68
        },
        "outputId": "6a6f26bd-c5a4-451a-8d22-9815d7564c38"
      },
      "cell_type": "code",
      "source": [
        "for i in range(3):\n",
        "    print(\"Hello!\")"
      ],
      "execution_count": 2,
      "outputs": [
        {
          "output_type": "stream",
          "text": [
            "Hello!\n",
            "Hello!\n",
            "Hello!\n"
          ],
          "name": "stdout"
        }
      ]
    },
    {
      "metadata": {
        "id": "GQkIqYkI-cWV",
        "colab_type": "code",
        "colab": {}
      },
      "cell_type": "code",
      "source": [
        "# Creating a new list\n",
        "cities = ['new york city', 'mountain view', 'chicago', 'los angeles']\n",
        "capitalized_cities = []\n",
        "\n",
        "for city in cities:\n",
        "    capitalized_cities.append(city.title())"
      ],
      "execution_count": 0,
      "outputs": []
    },
    {
      "metadata": {
        "id": "sa4Y0I26-f7O",
        "colab_type": "code",
        "colab": {}
      },
      "cell_type": "code",
      "source": [
        "cities = ['new york city', 'mountain view', 'chicago', 'los angeles']\n",
        "\n",
        "for index in range(len(cities)):\n",
        "    cities[index] = cities[index].title()"
      ],
      "execution_count": 0,
      "outputs": []
    },
    {
      "metadata": {
        "id": "Ztf10ctN-jd_",
        "colab_type": "code",
        "colab": {}
      },
      "cell_type": "code",
      "source": [
        ""
      ],
      "execution_count": 0,
      "outputs": []
    }
  ]
}